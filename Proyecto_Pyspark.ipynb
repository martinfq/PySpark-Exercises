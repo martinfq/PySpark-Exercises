{
  "nbformat": 4,
  "nbformat_minor": 0,
  "metadata": {
    "colab": {
      "provenance": []
    },
    "kernelspec": {
      "name": "python3",
      "display_name": "Python 3"
    },
    "language_info": {
      "name": "python"
    }
  },
  "cells": [
    {
      "cell_type": "markdown",
      "source": [
        "## PROYECTO CURSO PYSPARK"
      ],
      "metadata": {
        "id": "NCxukZ8pXACg"
      }
    },
    {
      "cell_type": "markdown",
      "source": [
        "Autor: Martin Fierro"
      ],
      "metadata": {
        "id": "2D64DLYWXEqN"
      }
    },
    {
      "cell_type": "markdown",
      "source": [
        "## Descripción General del Proyecto\n",
        "\n"
      ],
      "metadata": {
        "id": "IY75Ji1cXRjn"
      }
    },
    {
      "cell_type": "markdown",
      "source": [
        "### 1. Selección de la Fuente de Datos\n",
        "\n",
        "- **Nombre del Dataset**: NYC Taxi Trips (Yellow, Green o FHV Trips).  \n",
        "- **Proveedores**:  \n",
        "  - [NYC Taxi & Limousine Commission (TLC)](https://www1.nyc.gov/site/tlc/about/tlc-trip-record-data.page), que publica mensualmente todos los viajes realizados.  \n",
        "  - Copias alternativas en [Kaggle](https://www.kaggle.com/datasets), que a veces tienen los archivos consolidados en diferentes formatos.  \n",
        "- **Volumen**: Se puede alcanzar fácilmente cientos de millones de registros si se descargan varios años de datos. Esto justifica el uso de técnicas de optimización y escalabilidad.\n",
        "\n",
        "### 2. Objetivos de Negocio y Analíticos\n",
        "\n",
        "1. **Análisis de Demanda de Taxis**:  \n",
        "   - Identificar los horarios de mayor afluencia en distintas zonas de la ciudad.  \n",
        "   - Calcular el volumen de viajes por día/semana/mes.  \n",
        "\n",
        "2. **Análisis de Duración y Distancia de Viajes**:  \n",
        "   - Estimar el tiempo promedio de recorrido entre distintas zonas, o el tiempo total de cada jornada.  \n",
        "   - Detectar picos de duración (por congestión, eventos masivos, etc.).\n",
        "\n",
        "3. **Costos y Propinas**:  \n",
        "   - Relacionar montos de propinas con la hora del día, el día de la semana o la zona de recogida.  \n",
        "   - Evaluar patrones de pagos en efectivo vs. tarjeta.\n",
        "\n",
        "4. **Optimización de Consultas y Procesamiento**:  \n",
        "   - Aplicar las técnicas de particionamiento (por fecha, zona o ambas).  \n",
        "   - Usar Z-Ordering para columnas clave, como fecha/hora o zonas geográficas.  \n",
        "   - Aplicar broadcast joins y manejo de skew con tablas auxiliares (por ejemplo, dimensiones de zonas o festivos).  \n",
        "   - Caching y persistencia para exploraciones repetitivas."
      ],
      "metadata": {
        "id": "pV9pEndbXZ5E"
      }
    },
    {
      "cell_type": "markdown",
      "source": [
        "## Librerias"
      ],
      "metadata": {
        "id": "8Gxk9ov-ZA1b"
      }
    },
    {
      "cell_type": "code",
      "source": [
        "from pyspark.sql import SparkSession\n",
        "from pyspark.sql.functions import *"
      ],
      "metadata": {
        "id": "zCUjERTqY8X9"
      },
      "execution_count": 26,
      "outputs": []
    },
    {
      "cell_type": "code",
      "source": [
        "import time"
      ],
      "metadata": {
        "id": "YFPFGCy8voiQ"
      },
      "execution_count": 2,
      "outputs": []
    },
    {
      "cell_type": "markdown",
      "source": [
        "## Utils"
      ],
      "metadata": {
        "id": "TluJTrivvSHg"
      }
    },
    {
      "cell_type": "code",
      "source": [
        "def medir_tiempo_funcion(funcion):\n",
        "  star_time = time.time()\n",
        "  funcion()\n",
        "  end_time = time.time()\n",
        "  execution_time = end_time - star_time\n",
        "  return execution_time"
      ],
      "metadata": {
        "id": "UDonGlRDv0i8"
      },
      "execution_count": 3,
      "outputs": []
    },
    {
      "cell_type": "code",
      "source": [
        "def medir_tiempo_repeticiones(funcion, repeticiones):\n",
        "  star_time = time.time()\n",
        "  for _ in range(repeticiones):\n",
        "    funcion()\n",
        "  end_time = time.time()\n",
        "  execution_time = end_time - star_time\n",
        "  return execution_time"
      ],
      "metadata": {
        "id": "FwsqD5WJvUN6"
      },
      "execution_count": 4,
      "outputs": []
    },
    {
      "cell_type": "markdown",
      "source": [
        "## 1. Adquisición y Preparación de Datos\n",
        "\n",
        "1. **Descarga de Datos**  \n",
        "   - Obtener los archivos CSV o Parquet de uno o varios años de registros de taxi (p. ej. Yellow Taxi Trip Records).  \n",
        "   - Verificar la disponibilidad de los campos (por ejemplo: pickup_datetime, dropoff_datetime, pickup_location, dropoff_location, passenger_count, trip_distance, total_amount, etc.).\n",
        "\n",
        "2. **Limpieza y Estandarización**  \n",
        "   - Eliminar filas con datos claramente inconsistentes (distancias negativas, tiempos de viaje nulos, etc.).  \n",
        "   - Convertir tipos de columnas (fecha/hora, numéricos, etc.) y unificar formatos.  \n",
        "   - Agregar columnas derivadas si se requiere (por ejemplo, “hora del día” de la recogida, “día de la semana”, “zona geográfica” unificada a partir de lat/long o “LocationID” si se usa la tabla de zonas).\n",
        "\n",
        "3. **Enriquecimiento con Tablas Auxiliares**  \n",
        "   - Incorporar la tabla “Taxi Zone Lookup” que relaciona cada LocationID con un barrio o zona (por ejemplo, Bronx, Brooklyn, Manhattan, etc.).  \n",
        "   - (Opcional) Añadir información de clima o de eventos de la ciudad para un análisis predictivo más sofisticado."
      ],
      "metadata": {
        "id": "4eFEJ-uhXgnU"
      }
    },
    {
      "cell_type": "code",
      "source": [
        "# Crear una SparkSession\n",
        "spark = SparkSession.builder \\\n",
        "    .appName(\"Leer archivo Parquet\") \\\n",
        "    .getOrCreate()"
      ],
      "metadata": {
        "id": "dmHSSbqsZGHC"
      },
      "execution_count": 5,
      "outputs": []
    },
    {
      "cell_type": "code",
      "source": [
        "LRF_codigos = spark.read.csv(\"taxi_zone_lookup.csv\", header=True, inferSchema=True)"
      ],
      "metadata": {
        "id": "8sYr28B8kCM0"
      },
      "execution_count": 6,
      "outputs": []
    },
    {
      "cell_type": "code",
      "source": [
        "LRF_codigos = LRF_codigos.select(\"LocationID\",\"Borough\")"
      ],
      "metadata": {
        "id": "PaBrXkYtoX6R"
      },
      "execution_count": 7,
      "outputs": []
    },
    {
      "cell_type": "code",
      "source": [
        "# Leer el archivo Parquet\n",
        "enero = spark.read.parquet(\"enero.parquet\")\n",
        "\n",
        "# Opcional: Mostrar el esquema del DataFrame\n",
        "enero.printSchema()"
      ],
      "metadata": {
        "colab": {
          "base_uri": "https://localhost:8080/"
        },
        "id": "QqRogG8KXkbR",
        "outputId": "86206d40-2b77-4d9d-fd55-a6dfe5c189e6"
      },
      "execution_count": 8,
      "outputs": [
        {
          "output_type": "stream",
          "name": "stdout",
          "text": [
            "root\n",
            " |-- VendorID: integer (nullable = true)\n",
            " |-- tpep_pickup_datetime: timestamp_ntz (nullable = true)\n",
            " |-- tpep_dropoff_datetime: timestamp_ntz (nullable = true)\n",
            " |-- passenger_count: long (nullable = true)\n",
            " |-- trip_distance: double (nullable = true)\n",
            " |-- RatecodeID: long (nullable = true)\n",
            " |-- store_and_fwd_flag: string (nullable = true)\n",
            " |-- PULocationID: integer (nullable = true)\n",
            " |-- DOLocationID: integer (nullable = true)\n",
            " |-- payment_type: long (nullable = true)\n",
            " |-- fare_amount: double (nullable = true)\n",
            " |-- extra: double (nullable = true)\n",
            " |-- mta_tax: double (nullable = true)\n",
            " |-- tip_amount: double (nullable = true)\n",
            " |-- tolls_amount: double (nullable = true)\n",
            " |-- improvement_surcharge: double (nullable = true)\n",
            " |-- total_amount: double (nullable = true)\n",
            " |-- congestion_surcharge: double (nullable = true)\n",
            " |-- Airport_fee: double (nullable = true)\n",
            "\n"
          ]
        }
      ]
    },
    {
      "cell_type": "code",
      "source": [
        "numero_filas = enero.count()\n",
        "numero_filas"
      ],
      "metadata": {
        "colab": {
          "base_uri": "https://localhost:8080/"
        },
        "id": "lDpfX5OndhbH",
        "outputId": "5d88c68c-715b-450c-a894-1456da52d4b7"
      },
      "execution_count": 9,
      "outputs": [
        {
          "output_type": "execute_result",
          "data": {
            "text/plain": [
              "2964624"
            ]
          },
          "metadata": {},
          "execution_count": 9
        }
      ]
    },
    {
      "cell_type": "code",
      "source": [
        "nulos_por_columna = enero.select(\n",
        "    [\n",
        "        sum(col(c).isNull().cast(\"int\")).alias(c) for c in enero.columns\n",
        "    ]\n",
        ")\n",
        "\n",
        "nulos_por_columna.show()"
      ],
      "metadata": {
        "colab": {
          "base_uri": "https://localhost:8080/"
        },
        "id": "wfu0JUzaZJ0F",
        "outputId": "204b853f-680f-4d7f-e953-688e4469dcb1"
      },
      "execution_count": 10,
      "outputs": [
        {
          "output_type": "stream",
          "name": "stdout",
          "text": [
            "+--------+--------------------+---------------------+---------------+-------------+----------+------------------+------------+------------+------------+-----------+-----+-------+----------+------------+---------------------+------------+--------------------+-----------+\n",
            "|VendorID|tpep_pickup_datetime|tpep_dropoff_datetime|passenger_count|trip_distance|RatecodeID|store_and_fwd_flag|PULocationID|DOLocationID|payment_type|fare_amount|extra|mta_tax|tip_amount|tolls_amount|improvement_surcharge|total_amount|congestion_surcharge|Airport_fee|\n",
            "+--------+--------------------+---------------------+---------------+-------------+----------+------------------+------------+------------+------------+-----------+-----+-------+----------+------------+---------------------+------------+--------------------+-----------+\n",
            "|       0|                   0|                    0|         140162|            0|    140162|            140162|           0|           0|           0|          0|    0|      0|         0|           0|                    0|           0|              140162|     140162|\n",
            "+--------+--------------------+---------------------+---------------+-------------+----------+------------------+------------+------------+------------+-----------+-----+-------+----------+------------+---------------------+------------+--------------------+-----------+\n",
            "\n"
          ]
        }
      ]
    },
    {
      "cell_type": "code",
      "source": [
        "clean_df = enero.filter(col(\"trip_distance\") > 0)\n",
        "clean_df = enero.filter(col(\"passenger_count\") > 0)\n",
        "clean_df = enero.filter(col(\"total_amount\") > 0)"
      ],
      "metadata": {
        "id": "UYhlfY0-eDjc"
      },
      "execution_count": 11,
      "outputs": []
    },
    {
      "cell_type": "code",
      "source": [
        "clean_df.count()"
      ],
      "metadata": {
        "colab": {
          "base_uri": "https://localhost:8080/"
        },
        "id": "NAtRuNURgEbo",
        "outputId": "4bd98034-6467-4972-fe59-b79b6ecf22c3"
      },
      "execution_count": 12,
      "outputs": [
        {
          "output_type": "execute_result",
          "data": {
            "text/plain": [
              "2928704"
            ]
          },
          "metadata": {},
          "execution_count": 12
        }
      ]
    },
    {
      "cell_type": "code",
      "source": [
        "clean_df= clean_df.withColumn(\"dia_pickup\", dayofmonth(col(\"tpep_pickup_datetime\"))) \\\n",
        "    .withColumn(\"mes_pickup\", month(col(\"tpep_pickup_datetime\"))) \\\n",
        "    .withColumn(\"hora_pickup\", hour(col(\"tpep_pickup_datetime\")))"
      ],
      "metadata": {
        "id": "zhtCFz4miCb1"
      },
      "execution_count": 22,
      "outputs": []
    },
    {
      "cell_type": "code",
      "source": [
        "clean_df = clean_df.withColumn(\"dia_semana_pickup\", date_format(\"tpep_pickup_datetime\", \"EEEE\"))"
      ],
      "metadata": {
        "id": "VeDKM6uWHBDf"
      },
      "execution_count": 24,
      "outputs": []
    },
    {
      "cell_type": "code",
      "source": [
        "clean_df.show()"
      ],
      "metadata": {
        "colab": {
          "base_uri": "https://localhost:8080/"
        },
        "id": "9pgVqDcjilWj",
        "outputId": "18b418c2-d3ef-44f3-c80d-b2f41184f459"
      },
      "execution_count": 25,
      "outputs": [
        {
          "output_type": "stream",
          "name": "stdout",
          "text": [
            "+--------+--------------------+---------------------+---------------+-------------+----------+------------------+------------+------------+------------+-----------+-----+-------+----------+------------+---------------------+------------+--------------------+-----------+----------+----------+-----------+----------+---------+-----------------+\n",
            "|VendorID|tpep_pickup_datetime|tpep_dropoff_datetime|passenger_count|trip_distance|RatecodeID|store_and_fwd_flag|PULocationID|DOLocationID|payment_type|fare_amount|extra|mta_tax|tip_amount|tolls_amount|improvement_surcharge|total_amount|congestion_surcharge|Airport_fee|dia_pickup|mes_pickup|hora_pickup|LocationID|  Borough|dia_semana_pickup|\n",
            "+--------+--------------------+---------------------+---------------+-------------+----------+------------------+------------+------------+------------+-----------+-----+-------+----------+------------+---------------------+------------+--------------------+-----------+----------+----------+-----------+----------+---------+-----------------+\n",
            "|       2| 2024-01-01 00:57:55|  2024-01-01 01:17:43|              1|         1.72|         1|                 N|         186|          79|           2|       17.7|  1.0|    0.5|       0.0|         0.0|                  1.0|        22.7|                 2.5|        0.0|         1|         1|          0|       186|Manhattan|           Monday|\n",
            "|       1| 2024-01-01 00:03:00|  2024-01-01 00:09:36|              1|          1.8|         1|                 N|         140|         236|           1|       10.0|  3.5|    0.5|      3.75|         0.0|                  1.0|       18.75|                 2.5|        0.0|         1|         1|          0|       140|Manhattan|           Monday|\n",
            "|       1| 2024-01-01 00:17:06|  2024-01-01 00:35:01|              1|          4.7|         1|                 N|         236|          79|           1|       23.3|  3.5|    0.5|       3.0|         0.0|                  1.0|        31.3|                 2.5|        0.0|         1|         1|          0|       236|Manhattan|           Monday|\n",
            "|       1| 2024-01-01 00:36:38|  2024-01-01 00:44:56|              1|          1.4|         1|                 N|          79|         211|           1|       10.0|  3.5|    0.5|       2.0|         0.0|                  1.0|        17.0|                 2.5|        0.0|         1|         1|          0|        79|Manhattan|           Monday|\n",
            "|       1| 2024-01-01 00:46:51|  2024-01-01 00:52:57|              1|          0.8|         1|                 N|         211|         148|           1|        7.9|  3.5|    0.5|       3.2|         0.0|                  1.0|        16.1|                 2.5|        0.0|         1|         1|          0|       211|Manhattan|           Monday|\n",
            "|       1| 2024-01-01 00:54:08|  2024-01-01 01:26:31|              1|          4.7|         1|                 N|         148|         141|           1|       29.6|  3.5|    0.5|       6.9|         0.0|                  1.0|        41.5|                 2.5|        0.0|         1|         1|          0|       148|Manhattan|           Monday|\n",
            "|       2| 2024-01-01 00:49:44|  2024-01-01 01:15:47|              2|        10.82|         1|                 N|         138|         181|           1|       45.7|  6.0|    0.5|      10.0|         0.0|                  1.0|       64.95|                 0.0|       1.75|         1|         1|          0|       138|   Queens|           Monday|\n",
            "|       1| 2024-01-01 00:30:40|  2024-01-01 00:58:40|              0|          3.0|         1|                 N|         246|         231|           2|       25.4|  3.5|    0.5|       0.0|         0.0|                  1.0|        30.4|                 2.5|        0.0|         1|         1|          0|       246|Manhattan|           Monday|\n",
            "|       2| 2024-01-01 00:26:01|  2024-01-01 00:54:12|              1|         5.44|         1|                 N|         161|         261|           2|       31.0|  1.0|    0.5|       0.0|         0.0|                  1.0|        36.0|                 2.5|        0.0|         1|         1|          0|       161|Manhattan|           Monday|\n",
            "|       2| 2024-01-01 00:28:08|  2024-01-01 00:29:16|              1|         0.04|         1|                 N|         113|         113|           2|        3.0|  1.0|    0.5|       0.0|         0.0|                  1.0|         8.0|                 2.5|        0.0|         1|         1|          0|       113|Manhattan|           Monday|\n",
            "|       2| 2024-01-01 00:35:22|  2024-01-01 00:41:41|              2|         0.75|         1|                 N|         107|         137|           1|        7.9|  1.0|    0.5|       0.0|         0.0|                  1.0|        12.9|                 2.5|        0.0|         1|         1|          0|       107|Manhattan|           Monday|\n",
            "|       1| 2024-01-01 00:25:00|  2024-01-01 00:34:03|              2|          1.2|         1|                 N|         158|         246|           1|       14.9|  3.5|    0.5|      3.95|         0.0|                  1.0|       23.85|                 2.5|        0.0|         1|         1|          0|       158|Manhattan|           Monday|\n",
            "|       1| 2024-01-01 00:35:16|  2024-01-01 01:11:52|              2|          8.2|         1|                 N|         246|         190|           1|       59.0|  3.5|    0.5|     14.15|        6.94|                  1.0|       85.09|                 2.5|        0.0|         1|         1|          0|       246|Manhattan|           Monday|\n",
            "|       1| 2024-01-01 00:43:27|  2024-01-01 00:47:11|              2|          0.4|         1|                 N|          68|          90|           1|        5.8|  3.5|    0.5|      1.25|         0.0|                  1.0|       12.05|                 2.5|        0.0|         1|         1|          0|        68|Manhattan|           Monday|\n",
            "|       1| 2024-01-01 00:51:53|  2024-01-01 00:55:43|              1|          0.8|         1|                 N|          90|          68|           2|        6.5|  3.5|    0.5|       0.0|         0.0|                  1.0|        11.5|                 2.5|        0.0|         1|         1|          0|        90|Manhattan|           Monday|\n",
            "|       1| 2024-01-01 00:50:09|  2024-01-01 01:03:57|              1|          5.0|         1|                 N|         132|         216|           2|       21.2| 2.75|    0.5|       0.0|         0.0|                  1.0|       25.45|                 0.0|       1.75|         1|         1|          0|       132|   Queens|           Monday|\n",
            "|       1| 2024-01-01 00:41:06|  2024-01-01 00:53:42|              1|          1.5|         1|                 N|         164|          79|           1|       12.8|  3.5|    0.5|      4.45|         0.0|                  1.0|       22.25|                 2.5|        0.0|         1|         1|          0|       164|Manhattan|           Monday|\n",
            "|       2| 2024-01-01 00:52:09|  2024-01-01 00:52:28|              1|          0.0|         1|                 N|         237|         237|           2|        3.0|  1.0|    0.5|       0.0|         0.0|                  1.0|         8.0|                 2.5|        0.0|         1|         1|          0|       237|Manhattan|           Monday|\n",
            "|       2| 2024-01-01 00:56:38|  2024-01-01 01:03:17|              1|          1.5|         1|                 N|         141|         263|           1|        9.3|  1.0|    0.5|       3.0|         0.0|                  1.0|        17.3|                 2.5|        0.0|         1|         1|          0|       141|Manhattan|           Monday|\n",
            "|       2| 2024-01-01 00:32:34|  2024-01-01 00:49:33|              1|         2.57|         1|                 N|         161|         263|           1|       17.7|  1.0|    0.5|      10.0|         0.0|                  1.0|        32.7|                 2.5|        0.0|         1|         1|          0|       161|Manhattan|           Monday|\n",
            "+--------+--------------------+---------------------+---------------+-------------+----------+------------------+------------+------------+------------+-----------+-----+-------+----------+------------+---------------------+------------+--------------------+-----------+----------+----------+-----------+----------+---------+-----------------+\n",
            "only showing top 20 rows\n",
            "\n"
          ]
        }
      ]
    },
    {
      "cell_type": "code",
      "source": [
        "clean_df = clean_df.join(LRF_codigos, clean_df[\"PULocationID\"] == LRF_codigos[\"LocationID\"], how=\"left\")"
      ],
      "metadata": {
        "id": "hfzQweH4khmB"
      },
      "execution_count": 15,
      "outputs": []
    },
    {
      "cell_type": "markdown",
      "source": [
        "## 2. Particionamiento y Clustering\n",
        "\n",
        "1. **Diseño del Esquema de Particionamiento**  \n",
        "   - Decidir si se particionará por **año/mes** de la fecha de recogida (pickup_datetime) o por zona geográfica, o incluso una combinación de ambas (aunque se debe evitar crear un exceso de particiones).  \n",
        "   - Justificar la decisión en función de las consultas más frecuentes (por ejemplo, filtros por fecha o análisis por zonas).\n",
        "\n",
        "2. **Implementación y Medición de Rendimiento**  \n",
        "   - Crear un directorio (o tabla en Delta, si se usa un lago de datos) particionado por la columna elegida.  \n",
        "   - Medir el tamaño total de los archivos y el número de archivos resultantes.  \n",
        "   - Ejecutar algunas consultas comparativas antes y después del particionado, anotando el tiempo requerido.\n",
        "\n",
        "3. **Liquid Clustering / Auto Optimize** (según la plataforma)  \n",
        "   - Describir cómo se implementarían técnicas de reescritura dinámica para mantener los datos optimizados a medida que se realizan inserciones o actualizaciones (en caso de que se use un formato como Delta Lake).  \n",
        "   - Evaluar la variación en el tamaño promedio de los archivos y la latencia de las consultas tras esta optimización."
      ],
      "metadata": {
        "id": "d30dwDuohK7-"
      }
    },
    {
      "cell_type": "code",
      "source": [
        "clean_df.groupBy(\"mes_pickup\").count().show()"
      ],
      "metadata": {
        "colab": {
          "base_uri": "https://localhost:8080/"
        },
        "id": "g2SpZCOQg2_b",
        "outputId": "a37361e4-0b83-4490-9ffe-6d41baad4fe0"
      },
      "execution_count": 16,
      "outputs": [
        {
          "output_type": "stream",
          "name": "stdout",
          "text": [
            "+----------+-------+\n",
            "|mes_pickup|  count|\n",
            "+----------+-------+\n",
            "|        12|     11|\n",
            "|         1|2928690|\n",
            "|         2|      3|\n",
            "+----------+-------+\n",
            "\n"
          ]
        }
      ]
    },
    {
      "cell_type": "code",
      "source": [
        "clean_df.groupBy(\"PULocationID\").count().show()"
      ],
      "metadata": {
        "colab": {
          "base_uri": "https://localhost:8080/"
        },
        "id": "m2_-gIzYjbJh",
        "outputId": "2b320e06-c7be-49cb-9e9d-e9676af9410f"
      },
      "execution_count": 17,
      "outputs": [
        {
          "output_type": "stream",
          "name": "stdout",
          "text": [
            "+------------+-----+\n",
            "|PULocationID|count|\n",
            "+------------+-----+\n",
            "|         148|27566|\n",
            "|         243|  480|\n",
            "|          31|    7|\n",
            "|         137|32575|\n",
            "|         251|    4|\n",
            "|          85|  197|\n",
            "|          65| 1371|\n",
            "|         255| 1098|\n",
            "|          53|   47|\n",
            "|         133|  128|\n",
            "|          78|  193|\n",
            "|         108|  118|\n",
            "|         155|  220|\n",
            "|         211|19983|\n",
            "|          34|   61|\n",
            "|         193| 1653|\n",
            "|         126|  105|\n",
            "|         101|   55|\n",
            "|          81|  127|\n",
            "|          28|  409|\n",
            "+------------+-----+\n",
            "only showing top 20 rows\n",
            "\n"
          ]
        }
      ]
    },
    {
      "cell_type": "code",
      "source": [
        "clean_df.groupBy(\"Borough\").count().show()"
      ],
      "metadata": {
        "colab": {
          "base_uri": "https://localhost:8080/"
        },
        "id": "WZbVgFoMl9C4",
        "outputId": "b9871faa-0fb1-41d2-ab70-ad497dccb0f3"
      },
      "execution_count": 18,
      "outputs": [
        {
          "output_type": "stream",
          "name": "stdout",
          "text": [
            "+-------------+-------+\n",
            "|      Borough|  count|\n",
            "+-------------+-------+\n",
            "|       Queens| 266645|\n",
            "|          EWR|    283|\n",
            "|      Unknown|  10224|\n",
            "|     Brooklyn|  24969|\n",
            "|Staten Island|     69|\n",
            "|          N/A|   1575|\n",
            "|    Manhattan|2618093|\n",
            "|        Bronx|   6846|\n",
            "+-------------+-------+\n",
            "\n"
          ]
        }
      ]
    },
    {
      "cell_type": "code",
      "source": [
        "clean_df.groupBy(\"hora_pickup\").count().show()"
      ],
      "metadata": {
        "colab": {
          "base_uri": "https://localhost:8080/"
        },
        "id": "uDuQIYr3rP0f",
        "outputId": "6b1a2de4-5093-4195-cad1-2b44ab7bd20d"
      },
      "execution_count": 19,
      "outputs": [
        {
          "output_type": "stream",
          "name": "stdout",
          "text": [
            "+-----------+------+\n",
            "|hora_pickup| count|\n",
            "+-----------+------+\n",
            "|         12|162600|\n",
            "|         22|141354|\n",
            "|          1| 52780|\n",
            "|         13|167898|\n",
            "|          6| 40916|\n",
            "|         16|187894|\n",
            "|          3| 24275|\n",
            "|         20|157992|\n",
            "|          5| 18379|\n",
            "|         19|181832|\n",
            "|         15|187076|\n",
            "|          9|127765|\n",
            "|         17|203919|\n",
            "|          4| 16330|\n",
            "|          8|116212|\n",
            "|         23|107641|\n",
            "|          7| 82990|\n",
            "|         10|137293|\n",
            "|         21|158887|\n",
            "|         11|148908|\n",
            "+-----------+------+\n",
            "only showing top 20 rows\n",
            "\n"
          ]
        }
      ]
    },
    {
      "cell_type": "markdown",
      "source": [
        "## 3. Z-Order y Optimización de Lecturas\n",
        "\n",
        "1. **Columnas Candidatas para Z-Order**  \n",
        "   - `pickup_datetime` o la componente de fecha/hora que sea más usada.  \n",
        "   - `pickup_location` o `dropoff_location`, si se filtra con frecuencia por zona.  \n",
        "\n",
        "2. **Aplicación del Z-Ordering**  \n",
        "   - Indicar cómo se ejecutaría la ordenación Z-Order en la tabla particionada (por ejemplo, usando comandos `OPTIMIZE` si se está en Databricks/Delta Lake).  \n",
        "   - Comprobar el impacto en el número de archivos, la fragmentación, etc.\n",
        "\n",
        "3. **Pruebas de Consultas**  \n",
        "   - Realizar queries que filtren por fechas específicas o por zonas concretas.  \n",
        "   - Comparar los tiempos de respuesta con y sin Z-Order.  \n",
        "   - Documentar los resultados y analizar si la cardinalidad de las columnas era la adecuada para percibir una mejora clara.\n",
        "\n",
        "---\n",
        "\n",
        "### 4. Joins, Skew y Broadcast\n",
        "\n",
        "1. **Manejo de Tablas Dimensionales**  \n",
        "   - Integrar la tabla de zonas (dimensión pequeña) con la tabla de viajes (tabla grande).  \n",
        "   - Ilustrar cómo se puede aplicar un **broadcast join** cuando la tabla de zonas es de menor tamaño.\n",
        "\n",
        "2. **Detección y Manejo de Skew**  \n",
        "   - Explorar si ciertos LocationID, fechas o rangos horarios concentran un volumen desproporcionado de viajes.  \n",
        "   - Aplicar técnicas de salting o hints en caso de alta disparidad para evitar cuellos de botella en los shuffles.\n",
        "\n",
        "3. **Medición de Mejoras**  \n",
        "   - Comparar el plan de ejecución y los tiempos con broadcast join vs. un join normal.  \n",
        "   - Analizar el DAG resultante (con `explain()` o Spark UI) y señalar la diferencia en la cantidad de stages o shuffle.\n",
        "\n",
        "---\n",
        "\n",
        "### 5. Caching y Persistencia\n",
        "\n",
        "1. **Identificación de Consultas Frecuentes**  \n",
        "   - Definir consultas que se repitan a lo largo del proyecto, por ejemplo, agregaciones por zona y hora punta, o correlación de distancias y propinas.  \n",
        "   - Decidir qué DataFrame(s) vale la pena cachear (dependerá de la exploración analítica que se realice).\n",
        "\n",
        "2. **Aplicación de Cache**  \n",
        "   - Justificar el nivel de persistencia.  \n",
        "   - Medir la mejora en tiempo de ejecución de las consultas sucesivas tras el cache.\n",
        "\n",
        "3. **Liberación de Caché**  \n",
        "   - Proponer condiciones o estrategias para liberar el cache cuando ya no se requiera, optimizando el uso de memoria.\n",
        "\n",
        "---\n",
        "\n"
      ],
      "metadata": {
        "id": "UPiOcCyor2qa"
      }
    },
    {
      "cell_type": "markdown",
      "source": [
        "## 6. Análisis de Alto Nivel y Visualizaciones\n",
        "\n",
        "1. **Consultas de Negocio**  \n",
        "   - Calcular indicadores como:  \n",
        "     - Volumen de viajes promedio por día de la semana.  \n",
        "     - Total de viajes y recaudación por zona de recogida.  \n",
        "     - Evolución de la propina media por mes.  \n",
        "   - Identificar patrones relevantes, picos de demanda o anomalías en la duración de los recorridos.\n",
        "\n",
        "2. **Visualización**  \n",
        "   - Generar gráficas (de barras, líneas o mapas interactivos) que ayuden a entender mejor la distribución geográfica y temporal de los viajes.  \n",
        "   - Mostrar cómo las optimizaciones (particionamiento, Z-Order, etc.) permiten que el análisis sea más ágil incluso con un dataset de gran tamaño.\n",
        "\n",
        "---\n",
        "\n"
      ],
      "metadata": {
        "id": "6dvZplkuFX3s"
      }
    },
    {
      "cell_type": "code",
      "source": [
        "clean_df.show()"
      ],
      "metadata": {
        "colab": {
          "base_uri": "https://localhost:8080/"
        },
        "id": "A8u0T9HRFilE",
        "outputId": "fa1b5f47-199e-4fc3-88ad-70a987a91135"
      },
      "execution_count": 20,
      "outputs": [
        {
          "output_type": "stream",
          "name": "stdout",
          "text": [
            "+--------+--------------------+---------------------+---------------+-------------+----------+------------------+------------+------------+------------+-----------+-----+-------+----------+------------+---------------------+------------+--------------------+-----------+----------+----------+-----------+----------+---------+\n",
            "|VendorID|tpep_pickup_datetime|tpep_dropoff_datetime|passenger_count|trip_distance|RatecodeID|store_and_fwd_flag|PULocationID|DOLocationID|payment_type|fare_amount|extra|mta_tax|tip_amount|tolls_amount|improvement_surcharge|total_amount|congestion_surcharge|Airport_fee|dia_pickup|mes_pickup|hora_pickup|LocationID|  Borough|\n",
            "+--------+--------------------+---------------------+---------------+-------------+----------+------------------+------------+------------+------------+-----------+-----+-------+----------+------------+---------------------+------------+--------------------+-----------+----------+----------+-----------+----------+---------+\n",
            "|       2| 2024-01-01 00:57:55|  2024-01-01 01:17:43|              1|         1.72|         1|                 N|         186|          79|           2|       17.7|  1.0|    0.5|       0.0|         0.0|                  1.0|        22.7|                 2.5|        0.0|         1|         1|          0|       186|Manhattan|\n",
            "|       1| 2024-01-01 00:03:00|  2024-01-01 00:09:36|              1|          1.8|         1|                 N|         140|         236|           1|       10.0|  3.5|    0.5|      3.75|         0.0|                  1.0|       18.75|                 2.5|        0.0|         1|         1|          0|       140|Manhattan|\n",
            "|       1| 2024-01-01 00:17:06|  2024-01-01 00:35:01|              1|          4.7|         1|                 N|         236|          79|           1|       23.3|  3.5|    0.5|       3.0|         0.0|                  1.0|        31.3|                 2.5|        0.0|         1|         1|          0|       236|Manhattan|\n",
            "|       1| 2024-01-01 00:36:38|  2024-01-01 00:44:56|              1|          1.4|         1|                 N|          79|         211|           1|       10.0|  3.5|    0.5|       2.0|         0.0|                  1.0|        17.0|                 2.5|        0.0|         1|         1|          0|        79|Manhattan|\n",
            "|       1| 2024-01-01 00:46:51|  2024-01-01 00:52:57|              1|          0.8|         1|                 N|         211|         148|           1|        7.9|  3.5|    0.5|       3.2|         0.0|                  1.0|        16.1|                 2.5|        0.0|         1|         1|          0|       211|Manhattan|\n",
            "|       1| 2024-01-01 00:54:08|  2024-01-01 01:26:31|              1|          4.7|         1|                 N|         148|         141|           1|       29.6|  3.5|    0.5|       6.9|         0.0|                  1.0|        41.5|                 2.5|        0.0|         1|         1|          0|       148|Manhattan|\n",
            "|       2| 2024-01-01 00:49:44|  2024-01-01 01:15:47|              2|        10.82|         1|                 N|         138|         181|           1|       45.7|  6.0|    0.5|      10.0|         0.0|                  1.0|       64.95|                 0.0|       1.75|         1|         1|          0|       138|   Queens|\n",
            "|       1| 2024-01-01 00:30:40|  2024-01-01 00:58:40|              0|          3.0|         1|                 N|         246|         231|           2|       25.4|  3.5|    0.5|       0.0|         0.0|                  1.0|        30.4|                 2.5|        0.0|         1|         1|          0|       246|Manhattan|\n",
            "|       2| 2024-01-01 00:26:01|  2024-01-01 00:54:12|              1|         5.44|         1|                 N|         161|         261|           2|       31.0|  1.0|    0.5|       0.0|         0.0|                  1.0|        36.0|                 2.5|        0.0|         1|         1|          0|       161|Manhattan|\n",
            "|       2| 2024-01-01 00:28:08|  2024-01-01 00:29:16|              1|         0.04|         1|                 N|         113|         113|           2|        3.0|  1.0|    0.5|       0.0|         0.0|                  1.0|         8.0|                 2.5|        0.0|         1|         1|          0|       113|Manhattan|\n",
            "|       2| 2024-01-01 00:35:22|  2024-01-01 00:41:41|              2|         0.75|         1|                 N|         107|         137|           1|        7.9|  1.0|    0.5|       0.0|         0.0|                  1.0|        12.9|                 2.5|        0.0|         1|         1|          0|       107|Manhattan|\n",
            "|       1| 2024-01-01 00:25:00|  2024-01-01 00:34:03|              2|          1.2|         1|                 N|         158|         246|           1|       14.9|  3.5|    0.5|      3.95|         0.0|                  1.0|       23.85|                 2.5|        0.0|         1|         1|          0|       158|Manhattan|\n",
            "|       1| 2024-01-01 00:35:16|  2024-01-01 01:11:52|              2|          8.2|         1|                 N|         246|         190|           1|       59.0|  3.5|    0.5|     14.15|        6.94|                  1.0|       85.09|                 2.5|        0.0|         1|         1|          0|       246|Manhattan|\n",
            "|       1| 2024-01-01 00:43:27|  2024-01-01 00:47:11|              2|          0.4|         1|                 N|          68|          90|           1|        5.8|  3.5|    0.5|      1.25|         0.0|                  1.0|       12.05|                 2.5|        0.0|         1|         1|          0|        68|Manhattan|\n",
            "|       1| 2024-01-01 00:51:53|  2024-01-01 00:55:43|              1|          0.8|         1|                 N|          90|          68|           2|        6.5|  3.5|    0.5|       0.0|         0.0|                  1.0|        11.5|                 2.5|        0.0|         1|         1|          0|        90|Manhattan|\n",
            "|       1| 2024-01-01 00:50:09|  2024-01-01 01:03:57|              1|          5.0|         1|                 N|         132|         216|           2|       21.2| 2.75|    0.5|       0.0|         0.0|                  1.0|       25.45|                 0.0|       1.75|         1|         1|          0|       132|   Queens|\n",
            "|       1| 2024-01-01 00:41:06|  2024-01-01 00:53:42|              1|          1.5|         1|                 N|         164|          79|           1|       12.8|  3.5|    0.5|      4.45|         0.0|                  1.0|       22.25|                 2.5|        0.0|         1|         1|          0|       164|Manhattan|\n",
            "|       2| 2024-01-01 00:52:09|  2024-01-01 00:52:28|              1|          0.0|         1|                 N|         237|         237|           2|        3.0|  1.0|    0.5|       0.0|         0.0|                  1.0|         8.0|                 2.5|        0.0|         1|         1|          0|       237|Manhattan|\n",
            "|       2| 2024-01-01 00:56:38|  2024-01-01 01:03:17|              1|          1.5|         1|                 N|         141|         263|           1|        9.3|  1.0|    0.5|       3.0|         0.0|                  1.0|        17.3|                 2.5|        0.0|         1|         1|          0|       141|Manhattan|\n",
            "|       2| 2024-01-01 00:32:34|  2024-01-01 00:49:33|              1|         2.57|         1|                 N|         161|         263|           1|       17.7|  1.0|    0.5|      10.0|         0.0|                  1.0|        32.7|                 2.5|        0.0|         1|         1|          0|       161|Manhattan|\n",
            "+--------+--------------------+---------------------+---------------+-------------+----------+------------------+------------+------------+------------+-----------+-----+-------+----------+------------+---------------------+------------+--------------------+-----------+----------+----------+-----------+----------+---------+\n",
            "only showing top 20 rows\n",
            "\n"
          ]
        }
      ]
    },
    {
      "cell_type": "code",
      "source": [
        "viajes_promedio = clean_df.groupBy(\"dia_semana_pickup\").agg(count('*').alias(\"viajes_promedio\"))"
      ],
      "metadata": {
        "id": "rsM9z0NmGMvo"
      },
      "execution_count": 37,
      "outputs": []
    },
    {
      "cell_type": "code",
      "source": [
        "total_viajes = clean_df.groupBy(\"Borough\").agg(count('*').alias(\"total viajes\"),count('total_amount').alias(\"total recaudacion\"))\n",
        "total_viajes.show()"
      ],
      "metadata": {
        "colab": {
          "base_uri": "https://localhost:8080/"
        },
        "id": "3Wk_a6doJLfv",
        "outputId": "b05baa11-2a96-472c-e50a-fbfb639f1b54"
      },
      "execution_count": 36,
      "outputs": [
        {
          "output_type": "stream",
          "name": "stdout",
          "text": [
            "+-------------+------------+-----------------+\n",
            "|      Borough|total viajes|total recaudacion|\n",
            "+-------------+------------+-----------------+\n",
            "|       Queens|      266645|           266645|\n",
            "|          EWR|         283|              283|\n",
            "|      Unknown|       10224|            10224|\n",
            "|     Brooklyn|       24969|            24969|\n",
            "|Staten Island|          69|               69|\n",
            "|          N/A|        1575|             1575|\n",
            "|    Manhattan|     2618093|          2618093|\n",
            "|        Bronx|        6846|             6846|\n",
            "+-------------+------------+-----------------+\n",
            "\n"
          ]
        }
      ]
    },
    {
      "cell_type": "code",
      "source": [
        "propina = clean_df.groupBy(\"mes_pickup\").agg(avg('tip_amount').alias(\"propina media\"))\n",
        "propina.show()"
      ],
      "metadata": {
        "colab": {
          "base_uri": "https://localhost:8080/"
        },
        "id": "V_VR9dViLgb5",
        "outputId": "4d72eaa2-2032-4d4b-a1a3-3a91e168e76f"
      },
      "execution_count": 38,
      "outputs": [
        {
          "output_type": "stream",
          "name": "stdout",
          "text": [
            "+----------+------------------+\n",
            "|mes_pickup|     propina media|\n",
            "+----------+------------------+\n",
            "|        12| 2.388181818181818|\n",
            "|         1|3.3759141595735245|\n",
            "|         2|2.0933333333333333|\n",
            "+----------+------------------+\n",
            "\n"
          ]
        }
      ]
    },
    {
      "cell_type": "code",
      "source": [
        "horas_pico = clean_df.groupBy(\"hora_pickup\").agg(count('*').alias(\"total_viajes\"))\n",
        "horas_pico = horas_pico.orderBy(\"total_viajes\", ascending=False)\n",
        "horas_pico.show()"
      ],
      "metadata": {
        "colab": {
          "base_uri": "https://localhost:8080/"
        },
        "id": "Lg9RbU3WMRk7",
        "outputId": "f88ed736-52b1-49ec-ccd3-c391a3189f5c"
      },
      "execution_count": 42,
      "outputs": [
        {
          "output_type": "stream",
          "name": "stdout",
          "text": [
            "+-----------+------------+\n",
            "|hora_pickup|total_viajes|\n",
            "+-----------+------------+\n",
            "|         18|      210308|\n",
            "|         17|      203919|\n",
            "|         16|      187894|\n",
            "|         15|      187076|\n",
            "|         19|      181832|\n",
            "|         14|      180848|\n",
            "|         13|      167898|\n",
            "|         12|      162600|\n",
            "|         21|      158887|\n",
            "|         20|      157992|\n",
            "|         11|      148908|\n",
            "|         22|      141354|\n",
            "|         10|      137293|\n",
            "|          9|      127765|\n",
            "|          8|      116212|\n",
            "|         23|      107641|\n",
            "|          7|       82990|\n",
            "|          0|       77778|\n",
            "|          1|       52780|\n",
            "|          6|       40916|\n",
            "+-----------+------------+\n",
            "only showing top 20 rows\n",
            "\n"
          ]
        }
      ]
    },
    {
      "cell_type": "code",
      "source": [
        "horas_pico_distancia = clean_df.groupBy(\"hora_pickup\").agg(avg('trip_distance').alias(\"distancia media\"))\n",
        "horas_pico_distancia.show()"
      ],
      "metadata": {
        "colab": {
          "base_uri": "https://localhost:8080/"
        },
        "id": "mb2xSyKVMArN",
        "outputId": "6769facd-4ecd-4d06-8347-3dae39c53111"
      },
      "execution_count": 41,
      "outputs": [
        {
          "output_type": "stream",
          "name": "stdout",
          "text": [
            "+-----------+------------------+\n",
            "|hora_pickup|   distancia media|\n",
            "+-----------+------------------+\n",
            "|         12| 3.297698093480924|\n",
            "|         22|  3.58507145181598|\n",
            "|          1| 3.130948275862061|\n",
            "|         13| 3.117276560769043|\n",
            "|          6|12.982980252224083|\n",
            "|         16|3.3483180410231133|\n",
            "|          3|3.3264238928939114|\n",
            "|         20|3.3116525520279745|\n",
            "|          5| 8.736985146090621|\n",
            "|         19|3.1091326609177736|\n",
            "|         15|3.8971129915114684|\n",
            "|          9|3.0005532814151024|\n",
            "|         17|3.0107887445504926|\n",
            "|          4| 4.565380281690132|\n",
            "|          8| 5.465322341926821|\n",
            "|         23|3.9124187809478097|\n",
            "|          7| 6.026193758284102|\n",
            "|         10| 3.279535154741996|\n",
            "|         21|3.3958133768023853|\n",
            "|         11|3.4306486555457236|\n",
            "+-----------+------------------+\n",
            "only showing top 20 rows\n",
            "\n"
          ]
        }
      ]
    },
    {
      "cell_type": "markdown",
      "source": [
        "## 7. Medición de Tiempos y Plan de Ejecución (DAG)\n",
        "\n",
        "1. **Comparativa de Escenarios**  \n",
        "   - **Sin particionar** vs. **Particionado** vs. **Particionado + Z-Order**.  \n",
        "   - **Join normal** vs. **Broadcast join**.  \n",
        "   - **Sin cache** vs. **Con cache**.  \n",
        "   - Resumir los resultados en tablas o gráficas, indicando la reducción de latencia o la diferencia en número de stages/shuffles.\n",
        "\n",
        "2. **Spark UI (opcional) y `explain()`**  \n",
        "   - Revisar el DAG para cada escenario y anotar los cambios en la estrategia de join, la cantidad de datos barajados (shuffle) o las tareas generadas.  \n",
        "   - Describir las observaciones más destacadas (por ejemplo, reducción de etapas en broadcast join, mitigación de skew, etc.).\n",
        "\n",
        "---\n",
        "\n",
        "### 8. Conclusiones\n",
        "\n",
        "1. **Conclusiones Principales**  \n",
        "   - Indicar qué técnicas ofrecieron mayor beneficio en términos de latencia y escalabilidad.  \n",
        "   - Destacar si hubo alguna sorpresa, como poca ganancia en Z-Order por baja cardinalidad, o una gran mejora en broadcast join.\n"
      ],
      "metadata": {
        "id": "-5wnhO84Fehk"
      }
    },
    {
      "cell_type": "code",
      "source": [],
      "metadata": {
        "id": "UJOGg0ePmkvk"
      },
      "execution_count": 19,
      "outputs": []
    }
  ]
}