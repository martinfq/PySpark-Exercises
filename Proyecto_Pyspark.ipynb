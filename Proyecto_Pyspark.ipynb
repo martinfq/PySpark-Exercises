{
  "nbformat": 4,
  "nbformat_minor": 0,
  "metadata": {
    "colab": {
      "provenance": []
    },
    "kernelspec": {
      "name": "python3",
      "display_name": "Python 3"
    },
    "language_info": {
      "name": "python"
    }
  },
  "cells": [
    {
      "cell_type": "markdown",
      "source": [
        "## PROYECTO CURSO PYSPARK"
      ],
      "metadata": {
        "id": "NCxukZ8pXACg"
      }
    },
    {
      "cell_type": "markdown",
      "source": [
        "Autor: Martin Fierro"
      ],
      "metadata": {
        "id": "2D64DLYWXEqN"
      }
    },
    {
      "cell_type": "markdown",
      "source": [
        "## Descripción General del Proyecto\n",
        "\n"
      ],
      "metadata": {
        "id": "IY75Ji1cXRjn"
      }
    },
    {
      "cell_type": "markdown",
      "source": [
        "### 1. Selección de la Fuente de Datos\n",
        "\n",
        "- **Nombre del Dataset**: NYC Taxi Trips (Yellow, Green o FHV Trips).  \n",
        "- **Proveedores**:  \n",
        "  - [NYC Taxi & Limousine Commission (TLC)](https://www1.nyc.gov/site/tlc/about/tlc-trip-record-data.page), que publica mensualmente todos los viajes realizados.  \n",
        "  - Copias alternativas en [Kaggle](https://www.kaggle.com/datasets), que a veces tienen los archivos consolidados en diferentes formatos.  \n",
        "- **Volumen**: Se puede alcanzar fácilmente cientos de millones de registros si se descargan varios años de datos. Esto justifica el uso de técnicas de optimización y escalabilidad.\n",
        "\n",
        "### 2. Objetivos de Negocio y Analíticos\n",
        "\n",
        "1. **Análisis de Demanda de Taxis**:  \n",
        "   - Identificar los horarios de mayor afluencia en distintas zonas de la ciudad.  \n",
        "   - Calcular el volumen de viajes por día/semana/mes.  \n",
        "\n",
        "2. **Análisis de Duración y Distancia de Viajes**:  \n",
        "   - Estimar el tiempo promedio de recorrido entre distintas zonas, o el tiempo total de cada jornada.  \n",
        "   - Detectar picos de duración (por congestión, eventos masivos, etc.).\n",
        "\n",
        "3. **Costos y Propinas**:  \n",
        "   - Relacionar montos de propinas con la hora del día, el día de la semana o la zona de recogida.  \n",
        "   - Evaluar patrones de pagos en efectivo vs. tarjeta.\n",
        "\n",
        "4. **Optimización de Consultas y Procesamiento**:  \n",
        "   - Aplicar las técnicas de particionamiento (por fecha, zona o ambas).  \n",
        "   - Usar Z-Ordering para columnas clave, como fecha/hora o zonas geográficas.  \n",
        "   - Aplicar broadcast joins y manejo de skew con tablas auxiliares (por ejemplo, dimensiones de zonas o festivos).  \n",
        "   - Caching y persistencia para exploraciones repetitivas."
      ],
      "metadata": {
        "id": "pV9pEndbXZ5E"
      }
    },
    {
      "cell_type": "markdown",
      "source": [
        "## Librerias"
      ],
      "metadata": {
        "id": "8Gxk9ov-ZA1b"
      }
    },
    {
      "cell_type": "code",
      "source": [
        "from pyspark.sql import SparkSession\n",
        "from pyspark.sql.functions import col, sum, min, max, dayofmonth, month, year, hour"
      ],
      "metadata": {
        "id": "zCUjERTqY8X9"
      },
      "execution_count": 23,
      "outputs": []
    },
    {
      "cell_type": "markdown",
      "source": [
        "## 1. Adquisición y Preparación de Datos\n",
        "\n",
        "1. **Descarga de Datos**  \n",
        "   - Obtener los archivos CSV o Parquet de uno o varios años de registros de taxi (p. ej. Yellow Taxi Trip Records).  \n",
        "   - Verificar la disponibilidad de los campos (por ejemplo: pickup_datetime, dropoff_datetime, pickup_location, dropoff_location, passenger_count, trip_distance, total_amount, etc.).\n",
        "\n",
        "2. **Limpieza y Estandarización**  \n",
        "   - Eliminar filas con datos claramente inconsistentes (distancias negativas, tiempos de viaje nulos, etc.).  \n",
        "   - Convertir tipos de columnas (fecha/hora, numéricos, etc.) y unificar formatos.  \n",
        "   - Agregar columnas derivadas si se requiere (por ejemplo, “hora del día” de la recogida, “día de la semana”, “zona geográfica” unificada a partir de lat/long o “LocationID” si se usa la tabla de zonas).\n",
        "\n",
        "3. **Enriquecimiento con Tablas Auxiliares**  \n",
        "   - Incorporar la tabla “Taxi Zone Lookup” que relaciona cada LocationID con un barrio o zona (por ejemplo, Bronx, Brooklyn, Manhattan, etc.).  \n",
        "   - (Opcional) Añadir información de clima o de eventos de la ciudad para un análisis predictivo más sofisticado."
      ],
      "metadata": {
        "id": "4eFEJ-uhXgnU"
      }
    },
    {
      "cell_type": "code",
      "source": [
        "# Crear una SparkSession\n",
        "spark = SparkSession.builder \\\n",
        "    .appName(\"Leer archivo Parquet\") \\\n",
        "    .getOrCreate()"
      ],
      "metadata": {
        "id": "dmHSSbqsZGHC"
      },
      "execution_count": 4,
      "outputs": []
    },
    {
      "cell_type": "code",
      "source": [
        "LRF_codigos = spark.read.csv(\"taxi_zone_lookup.csv\", header=True, inferSchema=True)"
      ],
      "metadata": {
        "id": "8sYr28B8kCM0"
      },
      "execution_count": 55,
      "outputs": []
    },
    {
      "cell_type": "code",
      "source": [
        "LRF_codigos = LRF_codigos.select(\"LocationID\",\"Borough\")"
      ],
      "metadata": {
        "id": "PaBrXkYtoX6R"
      },
      "execution_count": 56,
      "outputs": []
    },
    {
      "cell_type": "code",
      "source": [
        "# Leer el archivo Parquet\n",
        "enero = spark.read.parquet(\"enero.parquet\")\n",
        "\n",
        "# Opcional: Mostrar el esquema del DataFrame\n",
        "enero.printSchema()"
      ],
      "metadata": {
        "colab": {
          "base_uri": "https://localhost:8080/"
        },
        "id": "QqRogG8KXkbR",
        "outputId": "96bec15f-c99b-43f4-86b1-353423b9f5df"
      },
      "execution_count": 6,
      "outputs": [
        {
          "output_type": "stream",
          "name": "stdout",
          "text": [
            "root\n",
            " |-- VendorID: integer (nullable = true)\n",
            " |-- tpep_pickup_datetime: timestamp_ntz (nullable = true)\n",
            " |-- tpep_dropoff_datetime: timestamp_ntz (nullable = true)\n",
            " |-- passenger_count: long (nullable = true)\n",
            " |-- trip_distance: double (nullable = true)\n",
            " |-- RatecodeID: long (nullable = true)\n",
            " |-- store_and_fwd_flag: string (nullable = true)\n",
            " |-- PULocationID: integer (nullable = true)\n",
            " |-- DOLocationID: integer (nullable = true)\n",
            " |-- payment_type: long (nullable = true)\n",
            " |-- fare_amount: double (nullable = true)\n",
            " |-- extra: double (nullable = true)\n",
            " |-- mta_tax: double (nullable = true)\n",
            " |-- tip_amount: double (nullable = true)\n",
            " |-- tolls_amount: double (nullable = true)\n",
            " |-- improvement_surcharge: double (nullable = true)\n",
            " |-- total_amount: double (nullable = true)\n",
            " |-- congestion_surcharge: double (nullable = true)\n",
            " |-- Airport_fee: double (nullable = true)\n",
            "\n"
          ]
        }
      ]
    },
    {
      "cell_type": "code",
      "source": [
        "numero_filas = enero.count()\n",
        "numero_filas"
      ],
      "metadata": {
        "colab": {
          "base_uri": "https://localhost:8080/"
        },
        "id": "lDpfX5OndhbH",
        "outputId": "70273774-8ce1-4377-925d-0f50b0a3f3b7"
      },
      "execution_count": 10,
      "outputs": [
        {
          "output_type": "execute_result",
          "data": {
            "text/plain": [
              "2964624"
            ]
          },
          "metadata": {},
          "execution_count": 10
        }
      ]
    },
    {
      "cell_type": "code",
      "source": [
        "nulos_por_columna = enero.select(\n",
        "    [\n",
        "        sum(col(c).isNull().cast(\"int\")).alias(c) for c in enero.columns\n",
        "    ]\n",
        ")\n",
        "\n",
        "nulos_por_columna.show()"
      ],
      "metadata": {
        "colab": {
          "base_uri": "https://localhost:8080/"
        },
        "id": "wfu0JUzaZJ0F",
        "outputId": "aea8da6b-fbec-4ed7-ebb8-86479b35d5fe"
      },
      "execution_count": 8,
      "outputs": [
        {
          "output_type": "stream",
          "name": "stdout",
          "text": [
            "+--------+--------------------+---------------------+---------------+-------------+----------+------------------+------------+------------+------------+-----------+-----+-------+----------+------------+---------------------+------------+--------------------+-----------+\n",
            "|VendorID|tpep_pickup_datetime|tpep_dropoff_datetime|passenger_count|trip_distance|RatecodeID|store_and_fwd_flag|PULocationID|DOLocationID|payment_type|fare_amount|extra|mta_tax|tip_amount|tolls_amount|improvement_surcharge|total_amount|congestion_surcharge|Airport_fee|\n",
            "+--------+--------------------+---------------------+---------------+-------------+----------+------------------+------------+------------+------------+-----------+-----+-------+----------+------------+---------------------+------------+--------------------+-----------+\n",
            "|       0|                   0|                    0|         140162|            0|    140162|            140162|           0|           0|           0|          0|    0|      0|         0|           0|                    0|           0|              140162|     140162|\n",
            "+--------+--------------------+---------------------+---------------+-------------+----------+------------------+------------+------------+------------+-----------+-----+-------+----------+------------+---------------------+------------+--------------------+-----------+\n",
            "\n"
          ]
        }
      ]
    },
    {
      "cell_type": "code",
      "source": [
        "clean_df = enero.filter(col(\"trip_distance\") > 0)"
      ],
      "metadata": {
        "id": "UYhlfY0-eDjc"
      },
      "execution_count": 60,
      "outputs": []
    },
    {
      "cell_type": "code",
      "source": [
        "clean_df.count()"
      ],
      "metadata": {
        "colab": {
          "base_uri": "https://localhost:8080/"
        },
        "id": "NAtRuNURgEbo",
        "outputId": "b74fc07b-9ee7-42c0-ddd7-9d96b2a0fde5"
      },
      "execution_count": 61,
      "outputs": [
        {
          "output_type": "execute_result",
          "data": {
            "text/plain": [
              "2904253"
            ]
          },
          "metadata": {},
          "execution_count": 61
        }
      ]
    },
    {
      "cell_type": "code",
      "source": [
        "clean_df= clean_df.withColumn(\"dia_pickup\", dayofmonth(col(\"tpep_pickup_datetime\"))) \\\n",
        "    .withColumn(\"mes_pickup\", month(col(\"tpep_pickup_datetime\"))) \\\n",
        "    .withColumn(\"hora_pickup\", hour(col(\"tpep_pickup_datetime\")))"
      ],
      "metadata": {
        "id": "zhtCFz4miCb1"
      },
      "execution_count": 62,
      "outputs": []
    },
    {
      "cell_type": "code",
      "source": [
        "clean_df.show()"
      ],
      "metadata": {
        "colab": {
          "base_uri": "https://localhost:8080/"
        },
        "id": "9pgVqDcjilWj",
        "outputId": "6ad2b776-910c-4bff-81ac-79c00a3a267d"
      },
      "execution_count": 63,
      "outputs": [
        {
          "output_type": "stream",
          "name": "stdout",
          "text": [
            "+--------+--------------------+---------------------+---------------+-------------+----------+------------------+------------+------------+------------+-----------+-----+-------+----------+------------+---------------------+------------+--------------------+-----------+----------+----------+-----------+\n",
            "|VendorID|tpep_pickup_datetime|tpep_dropoff_datetime|passenger_count|trip_distance|RatecodeID|store_and_fwd_flag|PULocationID|DOLocationID|payment_type|fare_amount|extra|mta_tax|tip_amount|tolls_amount|improvement_surcharge|total_amount|congestion_surcharge|Airport_fee|dia_pickup|mes_pickup|hora_pickup|\n",
            "+--------+--------------------+---------------------+---------------+-------------+----------+------------------+------------+------------+------------+-----------+-----+-------+----------+------------+---------------------+------------+--------------------+-----------+----------+----------+-----------+\n",
            "|       2| 2024-01-01 00:57:55|  2024-01-01 01:17:43|              1|         1.72|         1|                 N|         186|          79|           2|       17.7|  1.0|    0.5|       0.0|         0.0|                  1.0|        22.7|                 2.5|        0.0|         1|         1|          0|\n",
            "|       1| 2024-01-01 00:03:00|  2024-01-01 00:09:36|              1|          1.8|         1|                 N|         140|         236|           1|       10.0|  3.5|    0.5|      3.75|         0.0|                  1.0|       18.75|                 2.5|        0.0|         1|         1|          0|\n",
            "|       1| 2024-01-01 00:17:06|  2024-01-01 00:35:01|              1|          4.7|         1|                 N|         236|          79|           1|       23.3|  3.5|    0.5|       3.0|         0.0|                  1.0|        31.3|                 2.5|        0.0|         1|         1|          0|\n",
            "|       1| 2024-01-01 00:36:38|  2024-01-01 00:44:56|              1|          1.4|         1|                 N|          79|         211|           1|       10.0|  3.5|    0.5|       2.0|         0.0|                  1.0|        17.0|                 2.5|        0.0|         1|         1|          0|\n",
            "|       1| 2024-01-01 00:46:51|  2024-01-01 00:52:57|              1|          0.8|         1|                 N|         211|         148|           1|        7.9|  3.5|    0.5|       3.2|         0.0|                  1.0|        16.1|                 2.5|        0.0|         1|         1|          0|\n",
            "|       1| 2024-01-01 00:54:08|  2024-01-01 01:26:31|              1|          4.7|         1|                 N|         148|         141|           1|       29.6|  3.5|    0.5|       6.9|         0.0|                  1.0|        41.5|                 2.5|        0.0|         1|         1|          0|\n",
            "|       2| 2024-01-01 00:49:44|  2024-01-01 01:15:47|              2|        10.82|         1|                 N|         138|         181|           1|       45.7|  6.0|    0.5|      10.0|         0.0|                  1.0|       64.95|                 0.0|       1.75|         1|         1|          0|\n",
            "|       1| 2024-01-01 00:30:40|  2024-01-01 00:58:40|              0|          3.0|         1|                 N|         246|         231|           2|       25.4|  3.5|    0.5|       0.0|         0.0|                  1.0|        30.4|                 2.5|        0.0|         1|         1|          0|\n",
            "|       2| 2024-01-01 00:26:01|  2024-01-01 00:54:12|              1|         5.44|         1|                 N|         161|         261|           2|       31.0|  1.0|    0.5|       0.0|         0.0|                  1.0|        36.0|                 2.5|        0.0|         1|         1|          0|\n",
            "|       2| 2024-01-01 00:28:08|  2024-01-01 00:29:16|              1|         0.04|         1|                 N|         113|         113|           2|        3.0|  1.0|    0.5|       0.0|         0.0|                  1.0|         8.0|                 2.5|        0.0|         1|         1|          0|\n",
            "|       2| 2024-01-01 00:35:22|  2024-01-01 00:41:41|              2|         0.75|         1|                 N|         107|         137|           1|        7.9|  1.0|    0.5|       0.0|         0.0|                  1.0|        12.9|                 2.5|        0.0|         1|         1|          0|\n",
            "|       1| 2024-01-01 00:25:00|  2024-01-01 00:34:03|              2|          1.2|         1|                 N|         158|         246|           1|       14.9|  3.5|    0.5|      3.95|         0.0|                  1.0|       23.85|                 2.5|        0.0|         1|         1|          0|\n",
            "|       1| 2024-01-01 00:35:16|  2024-01-01 01:11:52|              2|          8.2|         1|                 N|         246|         190|           1|       59.0|  3.5|    0.5|     14.15|        6.94|                  1.0|       85.09|                 2.5|        0.0|         1|         1|          0|\n",
            "|       1| 2024-01-01 00:43:27|  2024-01-01 00:47:11|              2|          0.4|         1|                 N|          68|          90|           1|        5.8|  3.5|    0.5|      1.25|         0.0|                  1.0|       12.05|                 2.5|        0.0|         1|         1|          0|\n",
            "|       1| 2024-01-01 00:51:53|  2024-01-01 00:55:43|              1|          0.8|         1|                 N|          90|          68|           2|        6.5|  3.5|    0.5|       0.0|         0.0|                  1.0|        11.5|                 2.5|        0.0|         1|         1|          0|\n",
            "|       1| 2024-01-01 00:50:09|  2024-01-01 01:03:57|              1|          5.0|         1|                 N|         132|         216|           2|       21.2| 2.75|    0.5|       0.0|         0.0|                  1.0|       25.45|                 0.0|       1.75|         1|         1|          0|\n",
            "|       1| 2024-01-01 00:41:06|  2024-01-01 00:53:42|              1|          1.5|         1|                 N|         164|          79|           1|       12.8|  3.5|    0.5|      4.45|         0.0|                  1.0|       22.25|                 2.5|        0.0|         1|         1|          0|\n",
            "|       2| 2024-01-01 00:56:38|  2024-01-01 01:03:17|              1|          1.5|         1|                 N|         141|         263|           1|        9.3|  1.0|    0.5|       3.0|         0.0|                  1.0|        17.3|                 2.5|        0.0|         1|         1|          0|\n",
            "|       2| 2024-01-01 00:32:34|  2024-01-01 00:49:33|              1|         2.57|         1|                 N|         161|         263|           1|       17.7|  1.0|    0.5|      10.0|         0.0|                  1.0|        32.7|                 2.5|        0.0|         1|         1|          0|\n",
            "|       2| 2024-01-01 00:52:30|  2024-01-01 00:57:37|              1|         0.66|         1|                 N|         263|         236|           1|        6.5|  1.0|    0.5|      2.88|         0.0|                  1.0|       14.38|                 2.5|        0.0|         1|         1|          0|\n",
            "+--------+--------------------+---------------------+---------------+-------------+----------+------------------+------------+------------+------------+-----------+-----+-------+----------+------------+---------------------+------------+--------------------+-----------+----------+----------+-----------+\n",
            "only showing top 20 rows\n",
            "\n"
          ]
        }
      ]
    },
    {
      "cell_type": "code",
      "source": [
        "clean_df = clean_df.join(LRF_codigos, clean_df[\"PULocationID\"] == LRF_codigos[\"LocationID\"], how=\"left\")"
      ],
      "metadata": {
        "id": "hfzQweH4khmB"
      },
      "execution_count": 64,
      "outputs": []
    },
    {
      "cell_type": "markdown",
      "source": [
        "## 2. Particionamiento y Clustering\n",
        "\n",
        "1. **Diseño del Esquema de Particionamiento**  \n",
        "   - Decidir si se particionará por **año/mes** de la fecha de recogida (pickup_datetime) o por zona geográfica, o incluso una combinación de ambas (aunque se debe evitar crear un exceso de particiones).  \n",
        "   - Justificar la decisión en función de las consultas más frecuentes (por ejemplo, filtros por fecha o análisis por zonas).\n",
        "\n",
        "2. **Implementación y Medición de Rendimiento**  \n",
        "   - Crear un directorio (o tabla en Delta, si se usa un lago de datos) particionado por la columna elegida.  \n",
        "   - Medir el tamaño total de los archivos y el número de archivos resultantes.  \n",
        "   - Ejecutar algunas consultas comparativas antes y después del particionado, anotando el tiempo requerido.\n",
        "\n",
        "3. **Liquid Clustering / Auto Optimize** (según la plataforma)  \n",
        "   - Describir cómo se implementarían técnicas de reescritura dinámica para mantener los datos optimizados a medida que se realizan inserciones o actualizaciones (en caso de que se use un formato como Delta Lake).  \n",
        "   - Evaluar la variación en el tamaño promedio de los archivos y la latencia de las consultas tras esta optimización."
      ],
      "metadata": {
        "id": "d30dwDuohK7-"
      }
    },
    {
      "cell_type": "code",
      "source": [
        "clean_df.groupBy(\"mes_pickup\").count().show()"
      ],
      "metadata": {
        "colab": {
          "base_uri": "https://localhost:8080/"
        },
        "id": "g2SpZCOQg2_b",
        "outputId": "fc7429bb-bece-467c-a1f4-17db78665bed"
      },
      "execution_count": 36,
      "outputs": [
        {
          "output_type": "stream",
          "name": "stdout",
          "text": [
            "+----------+-------+\n",
            "|mes_pickup|  count|\n",
            "+----------+-------+\n",
            "|        12|     12|\n",
            "|         1|2904238|\n",
            "|         2|      3|\n",
            "+----------+-------+\n",
            "\n"
          ]
        }
      ]
    },
    {
      "cell_type": "code",
      "source": [
        "clean_df.groupBy(\"PULocationID\").count().show()"
      ],
      "metadata": {
        "colab": {
          "base_uri": "https://localhost:8080/"
        },
        "id": "m2_-gIzYjbJh",
        "outputId": "d8d819a2-6057-4e91-a01e-68d8b2dcfd0f"
      },
      "execution_count": 37,
      "outputs": [
        {
          "output_type": "stream",
          "name": "stdout",
          "text": [
            "+------------+-----+\n",
            "|PULocationID|count|\n",
            "+------------+-----+\n",
            "|         148|27111|\n",
            "|         243|  409|\n",
            "|          31|    5|\n",
            "|         137|32215|\n",
            "|         251|    2|\n",
            "|          85|  174|\n",
            "|          65| 1310|\n",
            "|         255|  964|\n",
            "|          53|   38|\n",
            "|         133|  110|\n",
            "|          78|  178|\n",
            "|         108|  110|\n",
            "|         155|  195|\n",
            "|         211|19793|\n",
            "|          34|   55|\n",
            "|         193|  582|\n",
            "|         126|   84|\n",
            "|         101|   41|\n",
            "|          81|  113|\n",
            "|          28|  394|\n",
            "+------------+-----+\n",
            "only showing top 20 rows\n",
            "\n"
          ]
        }
      ]
    },
    {
      "cell_type": "code",
      "source": [
        "clean_df.groupBy(\"Borough\").count().show()"
      ],
      "metadata": {
        "colab": {
          "base_uri": "https://localhost:8080/"
        },
        "id": "WZbVgFoMl9C4",
        "outputId": "aede9cb8-1b31-444f-92c2-b8ca60ba36ba"
      },
      "execution_count": 66,
      "outputs": [
        {
          "output_type": "stream",
          "name": "stdout",
          "text": [
            "+-------------+-------+\n",
            "|      Borough|  count|\n",
            "+-------------+-------+\n",
            "|       Queens| 263020|\n",
            "|          EWR|     53|\n",
            "|      Unknown|   9683|\n",
            "|     Brooklyn|  22550|\n",
            "|Staten Island|     50|\n",
            "|          N/A|    786|\n",
            "|    Manhattan|2602319|\n",
            "|        Bronx|   5792|\n",
            "+-------------+-------+\n",
            "\n"
          ]
        }
      ]
    },
    {
      "cell_type": "code",
      "source": [
        "test = clean_df.filter(col(\"Borough\") == \"N/A\")"
      ],
      "metadata": {
        "id": "CcgmyAXbmKUF"
      },
      "execution_count": 51,
      "outputs": []
    },
    {
      "cell_type": "code",
      "source": [
        "test.count()"
      ],
      "metadata": {
        "colab": {
          "base_uri": "https://localhost:8080/"
        },
        "id": "q9Dz42WymWVl",
        "outputId": "eaef767f-572a-4acc-dd12-b77fbd321fed"
      },
      "execution_count": 50,
      "outputs": [
        {
          "output_type": "execute_result",
          "data": {
            "text/plain": [
              "2894570"
            ]
          },
          "metadata": {},
          "execution_count": 50
        }
      ]
    },
    {
      "cell_type": "code",
      "source": [],
      "metadata": {
        "id": "UJOGg0ePmkvk"
      },
      "execution_count": null,
      "outputs": []
    }
  ]
}