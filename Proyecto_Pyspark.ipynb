{
  "nbformat": 4,
  "nbformat_minor": 0,
  "metadata": {
    "colab": {
      "provenance": []
    },
    "kernelspec": {
      "name": "python3",
      "display_name": "Python 3"
    },
    "language_info": {
      "name": "python"
    },
    "widgets": {
      "application/vnd.jupyter.widget-state+json": {
        "99a983fad4214ee185eb12e59080554c": {
          "model_module": "@jupyter-widgets/controls",
          "model_name": "VBoxModel",
          "model_module_version": "1.5.0",
          "state": {
            "_dom_classes": [],
            "_model_module": "@jupyter-widgets/controls",
            "_model_module_version": "1.5.0",
            "_model_name": "VBoxModel",
            "_view_count": null,
            "_view_module": "@jupyter-widgets/controls",
            "_view_module_version": "1.5.0",
            "_view_name": "VBoxView",
            "box_style": "",
            "children": [
              "IPY_MODEL_949096ee346a4543a324f03e47513040",
              "IPY_MODEL_068f56dcf6a640f4a01e4b35da32cd9b",
              "IPY_MODEL_b37a0afa0fe44b03826b7df813cf67d5"
            ],
            "layout": "IPY_MODEL_591d7afe064f42a1a2868186648c0be4"
          }
        },
        "949096ee346a4543a324f03e47513040": {
          "model_module": "@jupyter-widgets/controls",
          "model_name": "HBoxModel",
          "model_module_version": "1.5.0",
          "state": {
            "_dom_classes": [],
            "_model_module": "@jupyter-widgets/controls",
            "_model_module_version": "1.5.0",
            "_model_name": "HBoxModel",
            "_view_count": null,
            "_view_module": "@jupyter-widgets/controls",
            "_view_module_version": "1.5.0",
            "_view_name": "HBoxView",
            "box_style": "",
            "children": [
              "IPY_MODEL_77458fe1b5b74055b66466e18bd8d37c",
              "IPY_MODEL_507a160e3b0040e3923a6507ed090d91"
            ],
            "layout": "IPY_MODEL_cffa2c8c1863481aac0b73b4d46bbfd6"
          }
        },
        "068f56dcf6a640f4a01e4b35da32cd9b": {
          "model_module": "@jupyter-widgets/controls",
          "model_name": "HBoxModel",
          "model_module_version": "1.5.0",
          "state": {
            "_dom_classes": [],
            "_model_module": "@jupyter-widgets/controls",
            "_model_module_version": "1.5.0",
            "_model_name": "HBoxModel",
            "_view_count": null,
            "_view_module": "@jupyter-widgets/controls",
            "_view_module_version": "1.5.0",
            "_view_name": "HBoxView",
            "box_style": "",
            "children": [
              "IPY_MODEL_41e1807f8502492cb8dc8be83c4a226e",
              "IPY_MODEL_b71556002b8f4fec9f49fdade9ba357c"
            ],
            "layout": "IPY_MODEL_213810dbe9864665b7692d09c6b7a666"
          }
        },
        "b37a0afa0fe44b03826b7df813cf67d5": {
          "model_module": "jupyterlab-plotly",
          "model_name": "FigureModel",
          "model_module_version": "^5.24.1",
          "state": {
            "_config": {
              "plotlyServerURL": "https://plot.ly"
            },
            "_data": [
              {
                "name": "Arrival Delays",
                "opacity": 0.75,
                "x": {
                  "dtype": "float64",
                  "shape": [
                    336776
                  ]
                },
                "type": "histogram",
                "uid": "f7d31751-52e1-4812-9c05-0dea3e720b84"
              },
              {
                "name": "Departure Delays",
                "opacity": 0.75,
                "x": {
                  "dtype": "float64",
                  "shape": [
                    336776
                  ]
                },
                "type": "histogram",
                "uid": "19dd2fb9-b28f-4baa-8e61-1419490dcfb1"
              }
            ],
            "_dom_classes": [],
            "_js2py_layoutDelta": {},
            "_js2py_pointsCallback": {},
            "_js2py_relayout": {},
            "_js2py_restyle": {},
            "_js2py_traceDeltas": {},
            "_js2py_update": {},
            "_last_layout_edit_id": 0,
            "_last_trace_edit_id": 0,
            "_layout": {
              "barmode": "overlay",
              "title": {
                "text": "NYC FlightDatabase"
              }
            },
            "_model_module": "jupyterlab-plotly",
            "_model_module_version": "^5.24.1",
            "_model_name": "FigureModel",
            "_py2js_addTraces": {},
            "_py2js_animate": {},
            "_py2js_deleteTraces": {},
            "_py2js_moveTraces": {},
            "_py2js_relayout": null,
            "_py2js_removeLayoutProps": {},
            "_py2js_removeTraceProps": {},
            "_py2js_restyle": {},
            "_py2js_update": {},
            "_view_count": 0,
            "_view_module": "jupyterlab-plotly",
            "_view_module_version": "^5.24.1",
            "_view_name": "FigureView"
          }
        },
        "591d7afe064f42a1a2868186648c0be4": {
          "model_module": "@jupyter-widgets/base",
          "model_name": "LayoutModel",
          "model_module_version": "1.2.0",
          "state": {
            "_model_module": "@jupyter-widgets/base",
            "_model_module_version": "1.2.0",
            "_model_name": "LayoutModel",
            "_view_count": null,
            "_view_module": "@jupyter-widgets/base",
            "_view_module_version": "1.2.0",
            "_view_name": "LayoutView",
            "align_content": null,
            "align_items": null,
            "align_self": null,
            "border": null,
            "bottom": null,
            "display": null,
            "flex": null,
            "flex_flow": null,
            "grid_area": null,
            "grid_auto_columns": null,
            "grid_auto_flow": null,
            "grid_auto_rows": null,
            "grid_column": null,
            "grid_gap": null,
            "grid_row": null,
            "grid_template_areas": null,
            "grid_template_columns": null,
            "grid_template_rows": null,
            "height": null,
            "justify_content": null,
            "justify_items": null,
            "left": null,
            "margin": null,
            "max_height": null,
            "max_width": null,
            "min_height": null,
            "min_width": null,
            "object_fit": null,
            "object_position": null,
            "order": null,
            "overflow": null,
            "overflow_x": null,
            "overflow_y": null,
            "padding": null,
            "right": null,
            "top": null,
            "visibility": null,
            "width": null
          }
        },
        "77458fe1b5b74055b66466e18bd8d37c": {
          "model_module": "@jupyter-widgets/controls",
          "model_name": "CheckboxModel",
          "model_module_version": "1.5.0",
          "state": {
            "_dom_classes": [],
            "_model_module": "@jupyter-widgets/controls",
            "_model_module_version": "1.5.0",
            "_model_name": "CheckboxModel",
            "_view_count": null,
            "_view_module": "@jupyter-widgets/controls",
            "_view_module_version": "1.5.0",
            "_view_name": "CheckboxView",
            "description": "Date: ",
            "description_tooltip": null,
            "disabled": false,
            "indent": true,
            "layout": "IPY_MODEL_79b9e84320a94da09b9968081aa7276a",
            "style": "IPY_MODEL_5452b130435348bcb1b39e131a504124",
            "value": true
          }
        },
        "507a160e3b0040e3923a6507ed090d91": {
          "model_module": "@jupyter-widgets/controls",
          "model_name": "IntSliderModel",
          "model_module_version": "1.5.0",
          "state": {
            "_dom_classes": [],
            "_model_module": "@jupyter-widgets/controls",
            "_model_module_version": "1.5.0",
            "_model_name": "IntSliderModel",
            "_view_count": null,
            "_view_module": "@jupyter-widgets/controls",
            "_view_module_version": "1.5.0",
            "_view_name": "IntSliderView",
            "continuous_update": false,
            "description": "Month:",
            "description_tooltip": null,
            "disabled": false,
            "layout": "IPY_MODEL_db612741d3a146618ad2b0e5ff2847ae",
            "max": 12,
            "min": 1,
            "orientation": "horizontal",
            "readout": true,
            "readout_format": "d",
            "step": 1,
            "style": "IPY_MODEL_447d8ca4ba42459cad2d756b094d8a4e",
            "value": 1
          }
        },
        "cffa2c8c1863481aac0b73b4d46bbfd6": {
          "model_module": "@jupyter-widgets/base",
          "model_name": "LayoutModel",
          "model_module_version": "1.2.0",
          "state": {
            "_model_module": "@jupyter-widgets/base",
            "_model_module_version": "1.2.0",
            "_model_name": "LayoutModel",
            "_view_count": null,
            "_view_module": "@jupyter-widgets/base",
            "_view_module_version": "1.2.0",
            "_view_name": "LayoutView",
            "align_content": null,
            "align_items": null,
            "align_self": null,
            "border": null,
            "bottom": null,
            "display": null,
            "flex": null,
            "flex_flow": null,
            "grid_area": null,
            "grid_auto_columns": null,
            "grid_auto_flow": null,
            "grid_auto_rows": null,
            "grid_column": null,
            "grid_gap": null,
            "grid_row": null,
            "grid_template_areas": null,
            "grid_template_columns": null,
            "grid_template_rows": null,
            "height": null,
            "justify_content": null,
            "justify_items": null,
            "left": null,
            "margin": null,
            "max_height": null,
            "max_width": null,
            "min_height": null,
            "min_width": null,
            "object_fit": null,
            "object_position": null,
            "order": null,
            "overflow": null,
            "overflow_x": null,
            "overflow_y": null,
            "padding": null,
            "right": null,
            "top": null,
            "visibility": null,
            "width": null
          }
        },
        "41e1807f8502492cb8dc8be83c4a226e": {
          "model_module": "@jupyter-widgets/controls",
          "model_name": "DropdownModel",
          "model_module_version": "1.5.0",
          "state": {
            "_dom_classes": [],
            "_model_module": "@jupyter-widgets/controls",
            "_model_module_version": "1.5.0",
            "_model_name": "DropdownModel",
            "_options_labels": [
              "EWR",
              "LGA",
              "JFK"
            ],
            "_view_count": null,
            "_view_module": "@jupyter-widgets/controls",
            "_view_module_version": "1.5.0",
            "_view_name": "DropdownView",
            "description": "Origin Airport:",
            "description_tooltip": null,
            "disabled": false,
            "index": 1,
            "layout": "IPY_MODEL_57f3f35d2ce940e498cef60a50a0fd9b",
            "style": "IPY_MODEL_560a5dbaaf684b27a1c5143adcd3d9ed"
          }
        },
        "b71556002b8f4fec9f49fdade9ba357c": {
          "model_module": "@jupyter-widgets/controls",
          "model_name": "DropdownModel",
          "model_module_version": "1.5.0",
          "state": {
            "_dom_classes": [],
            "_model_module": "@jupyter-widgets/controls",
            "_model_module_version": "1.5.0",
            "_model_name": "DropdownModel",
            "_options_labels": [
              "UA",
              "AA",
              "B6",
              "DL",
              "EV",
              "MQ",
              "US",
              "WN",
              "VX",
              "FL",
              "AS",
              "9E",
              "F9",
              "HA",
              "YV",
              "OO"
            ],
            "_view_count": null,
            "_view_module": "@jupyter-widgets/controls",
            "_view_module_version": "1.5.0",
            "_view_name": "DropdownView",
            "description": "Airline:   ",
            "description_tooltip": null,
            "disabled": false,
            "index": 3,
            "layout": "IPY_MODEL_9b39fc89087d4a3783b601032c9ea546",
            "style": "IPY_MODEL_e549f31c0eec447492d0daf527cc7e58"
          }
        },
        "213810dbe9864665b7692d09c6b7a666": {
          "model_module": "@jupyter-widgets/base",
          "model_name": "LayoutModel",
          "model_module_version": "1.2.0",
          "state": {
            "_model_module": "@jupyter-widgets/base",
            "_model_module_version": "1.2.0",
            "_model_name": "LayoutModel",
            "_view_count": null,
            "_view_module": "@jupyter-widgets/base",
            "_view_module_version": "1.2.0",
            "_view_name": "LayoutView",
            "align_content": null,
            "align_items": null,
            "align_self": null,
            "border": null,
            "bottom": null,
            "display": null,
            "flex": null,
            "flex_flow": null,
            "grid_area": null,
            "grid_auto_columns": null,
            "grid_auto_flow": null,
            "grid_auto_rows": null,
            "grid_column": null,
            "grid_gap": null,
            "grid_row": null,
            "grid_template_areas": null,
            "grid_template_columns": null,
            "grid_template_rows": null,
            "height": null,
            "justify_content": null,
            "justify_items": null,
            "left": null,
            "margin": null,
            "max_height": null,
            "max_width": null,
            "min_height": null,
            "min_width": null,
            "object_fit": null,
            "object_position": null,
            "order": null,
            "overflow": null,
            "overflow_x": null,
            "overflow_y": null,
            "padding": null,
            "right": null,
            "top": null,
            "visibility": null,
            "width": null
          }
        },
        "79b9e84320a94da09b9968081aa7276a": {
          "model_module": "@jupyter-widgets/base",
          "model_name": "LayoutModel",
          "model_module_version": "1.2.0",
          "state": {
            "_model_module": "@jupyter-widgets/base",
            "_model_module_version": "1.2.0",
            "_model_name": "LayoutModel",
            "_view_count": null,
            "_view_module": "@jupyter-widgets/base",
            "_view_module_version": "1.2.0",
            "_view_name": "LayoutView",
            "align_content": null,
            "align_items": null,
            "align_self": null,
            "border": null,
            "bottom": null,
            "display": null,
            "flex": null,
            "flex_flow": null,
            "grid_area": null,
            "grid_auto_columns": null,
            "grid_auto_flow": null,
            "grid_auto_rows": null,
            "grid_column": null,
            "grid_gap": null,
            "grid_row": null,
            "grid_template_areas": null,
            "grid_template_columns": null,
            "grid_template_rows": null,
            "height": null,
            "justify_content": null,
            "justify_items": null,
            "left": null,
            "margin": null,
            "max_height": null,
            "max_width": null,
            "min_height": null,
            "min_width": null,
            "object_fit": null,
            "object_position": null,
            "order": null,
            "overflow": null,
            "overflow_x": null,
            "overflow_y": null,
            "padding": null,
            "right": null,
            "top": null,
            "visibility": null,
            "width": null
          }
        },
        "5452b130435348bcb1b39e131a504124": {
          "model_module": "@jupyter-widgets/controls",
          "model_name": "DescriptionStyleModel",
          "model_module_version": "1.5.0",
          "state": {
            "_model_module": "@jupyter-widgets/controls",
            "_model_module_version": "1.5.0",
            "_model_name": "DescriptionStyleModel",
            "_view_count": null,
            "_view_module": "@jupyter-widgets/base",
            "_view_module_version": "1.2.0",
            "_view_name": "StyleView",
            "description_width": ""
          }
        },
        "db612741d3a146618ad2b0e5ff2847ae": {
          "model_module": "@jupyter-widgets/base",
          "model_name": "LayoutModel",
          "model_module_version": "1.2.0",
          "state": {
            "_model_module": "@jupyter-widgets/base",
            "_model_module_version": "1.2.0",
            "_model_name": "LayoutModel",
            "_view_count": null,
            "_view_module": "@jupyter-widgets/base",
            "_view_module_version": "1.2.0",
            "_view_name": "LayoutView",
            "align_content": null,
            "align_items": null,
            "align_self": null,
            "border": null,
            "bottom": null,
            "display": null,
            "flex": null,
            "flex_flow": null,
            "grid_area": null,
            "grid_auto_columns": null,
            "grid_auto_flow": null,
            "grid_auto_rows": null,
            "grid_column": null,
            "grid_gap": null,
            "grid_row": null,
            "grid_template_areas": null,
            "grid_template_columns": null,
            "grid_template_rows": null,
            "height": null,
            "justify_content": null,
            "justify_items": null,
            "left": null,
            "margin": null,
            "max_height": null,
            "max_width": null,
            "min_height": null,
            "min_width": null,
            "object_fit": null,
            "object_position": null,
            "order": null,
            "overflow": null,
            "overflow_x": null,
            "overflow_y": null,
            "padding": null,
            "right": null,
            "top": null,
            "visibility": null,
            "width": null
          }
        },
        "447d8ca4ba42459cad2d756b094d8a4e": {
          "model_module": "@jupyter-widgets/controls",
          "model_name": "SliderStyleModel",
          "model_module_version": "1.5.0",
          "state": {
            "_model_module": "@jupyter-widgets/controls",
            "_model_module_version": "1.5.0",
            "_model_name": "SliderStyleModel",
            "_view_count": null,
            "_view_module": "@jupyter-widgets/base",
            "_view_module_version": "1.2.0",
            "_view_name": "StyleView",
            "description_width": "",
            "handle_color": null
          }
        },
        "57f3f35d2ce940e498cef60a50a0fd9b": {
          "model_module": "@jupyter-widgets/base",
          "model_name": "LayoutModel",
          "model_module_version": "1.2.0",
          "state": {
            "_model_module": "@jupyter-widgets/base",
            "_model_module_version": "1.2.0",
            "_model_name": "LayoutModel",
            "_view_count": null,
            "_view_module": "@jupyter-widgets/base",
            "_view_module_version": "1.2.0",
            "_view_name": "LayoutView",
            "align_content": null,
            "align_items": null,
            "align_self": null,
            "border": null,
            "bottom": null,
            "display": null,
            "flex": null,
            "flex_flow": null,
            "grid_area": null,
            "grid_auto_columns": null,
            "grid_auto_flow": null,
            "grid_auto_rows": null,
            "grid_column": null,
            "grid_gap": null,
            "grid_row": null,
            "grid_template_areas": null,
            "grid_template_columns": null,
            "grid_template_rows": null,
            "height": null,
            "justify_content": null,
            "justify_items": null,
            "left": null,
            "margin": null,
            "max_height": null,
            "max_width": null,
            "min_height": null,
            "min_width": null,
            "object_fit": null,
            "object_position": null,
            "order": null,
            "overflow": null,
            "overflow_x": null,
            "overflow_y": null,
            "padding": null,
            "right": null,
            "top": null,
            "visibility": null,
            "width": null
          }
        },
        "560a5dbaaf684b27a1c5143adcd3d9ed": {
          "model_module": "@jupyter-widgets/controls",
          "model_name": "DescriptionStyleModel",
          "model_module_version": "1.5.0",
          "state": {
            "_model_module": "@jupyter-widgets/controls",
            "_model_module_version": "1.5.0",
            "_model_name": "DescriptionStyleModel",
            "_view_count": null,
            "_view_module": "@jupyter-widgets/base",
            "_view_module_version": "1.2.0",
            "_view_name": "StyleView",
            "description_width": ""
          }
        },
        "9b39fc89087d4a3783b601032c9ea546": {
          "model_module": "@jupyter-widgets/base",
          "model_name": "LayoutModel",
          "model_module_version": "1.2.0",
          "state": {
            "_model_module": "@jupyter-widgets/base",
            "_model_module_version": "1.2.0",
            "_model_name": "LayoutModel",
            "_view_count": null,
            "_view_module": "@jupyter-widgets/base",
            "_view_module_version": "1.2.0",
            "_view_name": "LayoutView",
            "align_content": null,
            "align_items": null,
            "align_self": null,
            "border": null,
            "bottom": null,
            "display": null,
            "flex": null,
            "flex_flow": null,
            "grid_area": null,
            "grid_auto_columns": null,
            "grid_auto_flow": null,
            "grid_auto_rows": null,
            "grid_column": null,
            "grid_gap": null,
            "grid_row": null,
            "grid_template_areas": null,
            "grid_template_columns": null,
            "grid_template_rows": null,
            "height": null,
            "justify_content": null,
            "justify_items": null,
            "left": null,
            "margin": null,
            "max_height": null,
            "max_width": null,
            "min_height": null,
            "min_width": null,
            "object_fit": null,
            "object_position": null,
            "order": null,
            "overflow": null,
            "overflow_x": null,
            "overflow_y": null,
            "padding": null,
            "right": null,
            "top": null,
            "visibility": null,
            "width": null
          }
        },
        "e549f31c0eec447492d0daf527cc7e58": {
          "model_module": "@jupyter-widgets/controls",
          "model_name": "DescriptionStyleModel",
          "model_module_version": "1.5.0",
          "state": {
            "_model_module": "@jupyter-widgets/controls",
            "_model_module_version": "1.5.0",
            "_model_name": "DescriptionStyleModel",
            "_view_count": null,
            "_view_module": "@jupyter-widgets/base",
            "_view_module_version": "1.2.0",
            "_view_name": "StyleView",
            "description_width": ""
          }
        },
        "6882858f20634b66a86c62da8c956409": {
          "model_module": "@jupyter-widgets/controls",
          "model_name": "VBoxModel",
          "model_module_version": "1.5.0",
          "state": {
            "_dom_classes": [],
            "_model_module": "@jupyter-widgets/controls",
            "_model_module_version": "1.5.0",
            "_model_name": "VBoxModel",
            "_view_count": null,
            "_view_module": "@jupyter-widgets/controls",
            "_view_module_version": "1.5.0",
            "_view_name": "VBoxView",
            "box_style": "",
            "children": [
              "IPY_MODEL_7e38fc4b499d4411bb3a72e532c8e6d5",
              "IPY_MODEL_38de877365ae4fc9a08afc1b18866740"
            ],
            "layout": "IPY_MODEL_13e02ba8bc9d4a7babd7a023eec10588"
          }
        },
        "7e38fc4b499d4411bb3a72e532c8e6d5": {
          "model_module": "@jupyter-widgets/controls",
          "model_name": "SelectionSliderModel",
          "model_module_version": "1.5.0",
          "state": {
            "_dom_classes": [],
            "_model_module": "@jupyter-widgets/controls",
            "_model_module_version": "1.5.0",
            "_model_name": "SelectionSliderModel",
            "_options_labels": [
              "1",
              "2",
              "12"
            ],
            "_view_count": null,
            "_view_module": "@jupyter-widgets/controls",
            "_view_module_version": "1.5.0",
            "_view_name": "SelectionSliderView",
            "continuous_update": false,
            "description": "Mes:",
            "description_tooltip": null,
            "disabled": false,
            "index": 0,
            "layout": "IPY_MODEL_6c779a6dd3bd477bbe83486606e714f1",
            "orientation": "horizontal",
            "readout": true,
            "style": "IPY_MODEL_64678d3ce1104dbfb2b9790629b503b0"
          }
        },
        "38de877365ae4fc9a08afc1b18866740": {
          "model_module": "jupyterlab-plotly",
          "model_name": "FigureModel",
          "model_module_version": "^5.24.1",
          "state": {
            "_config": {
              "plotlyServerURL": "https://plot.ly"
            },
            "_data": [
              {
                "name": "Mes: 1",
                "x": [
                  "Unknown",
                  "Staten Island",
                  "Queens",
                  "N/A",
                  "Manhattan",
                  "EWR",
                  "Brooklyn",
                  "Bronx"
                ],
                "y": {
                  "dtype": "float64",
                  "shape": [
                    8
                  ]
                },
                "type": "bar",
                "uid": "12a8bb3f-333e-45e2-bc78-4bdc27a903cb"
              }
            ],
            "_dom_classes": [],
            "_js2py_layoutDelta": null,
            "_js2py_pointsCallback": null,
            "_js2py_relayout": null,
            "_js2py_restyle": {},
            "_js2py_traceDeltas": null,
            "_js2py_update": {},
            "_last_layout_edit_id": 1,
            "_last_trace_edit_id": 0,
            "_layout": {
              "title": {
                "text": "Propinas por Zona y Mes"
              },
              "xaxis": {
                "title": {
                  "text": "Zona (Borough)"
                }
              },
              "yaxis": {
                "title": {
                  "text": "Total Propinas"
                }
              }
            },
            "_model_module": "jupyterlab-plotly",
            "_model_module_version": "^5.24.1",
            "_model_name": "FigureModel",
            "_py2js_addTraces": {},
            "_py2js_animate": {},
            "_py2js_deleteTraces": {},
            "_py2js_moveTraces": {},
            "_py2js_relayout": null,
            "_py2js_removeLayoutProps": {},
            "_py2js_removeTraceProps": {},
            "_py2js_restyle": {},
            "_py2js_update": {},
            "_view_count": 1,
            "_view_module": "jupyterlab-plotly",
            "_view_module_version": "^5.24.1",
            "_view_name": "FigureView"
          }
        },
        "13e02ba8bc9d4a7babd7a023eec10588": {
          "model_module": "@jupyter-widgets/base",
          "model_name": "LayoutModel",
          "model_module_version": "1.2.0",
          "state": {
            "_model_module": "@jupyter-widgets/base",
            "_model_module_version": "1.2.0",
            "_model_name": "LayoutModel",
            "_view_count": null,
            "_view_module": "@jupyter-widgets/base",
            "_view_module_version": "1.2.0",
            "_view_name": "LayoutView",
            "align_content": null,
            "align_items": null,
            "align_self": null,
            "border": null,
            "bottom": null,
            "display": null,
            "flex": null,
            "flex_flow": null,
            "grid_area": null,
            "grid_auto_columns": null,
            "grid_auto_flow": null,
            "grid_auto_rows": null,
            "grid_column": null,
            "grid_gap": null,
            "grid_row": null,
            "grid_template_areas": null,
            "grid_template_columns": null,
            "grid_template_rows": null,
            "height": null,
            "justify_content": null,
            "justify_items": null,
            "left": null,
            "margin": null,
            "max_height": null,
            "max_width": null,
            "min_height": null,
            "min_width": null,
            "object_fit": null,
            "object_position": null,
            "order": null,
            "overflow": null,
            "overflow_x": null,
            "overflow_y": null,
            "padding": null,
            "right": null,
            "top": null,
            "visibility": null,
            "width": null
          }
        },
        "6c779a6dd3bd477bbe83486606e714f1": {
          "model_module": "@jupyter-widgets/base",
          "model_name": "LayoutModel",
          "model_module_version": "1.2.0",
          "state": {
            "_model_module": "@jupyter-widgets/base",
            "_model_module_version": "1.2.0",
            "_model_name": "LayoutModel",
            "_view_count": null,
            "_view_module": "@jupyter-widgets/base",
            "_view_module_version": "1.2.0",
            "_view_name": "LayoutView",
            "align_content": null,
            "align_items": null,
            "align_self": null,
            "border": null,
            "bottom": null,
            "display": null,
            "flex": null,
            "flex_flow": null,
            "grid_area": null,
            "grid_auto_columns": null,
            "grid_auto_flow": null,
            "grid_auto_rows": null,
            "grid_column": null,
            "grid_gap": null,
            "grid_row": null,
            "grid_template_areas": null,
            "grid_template_columns": null,
            "grid_template_rows": null,
            "height": null,
            "justify_content": null,
            "justify_items": null,
            "left": null,
            "margin": null,
            "max_height": null,
            "max_width": null,
            "min_height": null,
            "min_width": null,
            "object_fit": null,
            "object_position": null,
            "order": null,
            "overflow": null,
            "overflow_x": null,
            "overflow_y": null,
            "padding": null,
            "right": null,
            "top": null,
            "visibility": null,
            "width": null
          }
        },
        "64678d3ce1104dbfb2b9790629b503b0": {
          "model_module": "@jupyter-widgets/controls",
          "model_name": "DescriptionStyleModel",
          "model_module_version": "1.5.0",
          "state": {
            "_model_module": "@jupyter-widgets/controls",
            "_model_module_version": "1.5.0",
            "_model_name": "DescriptionStyleModel",
            "_view_count": null,
            "_view_module": "@jupyter-widgets/base",
            "_view_module_version": "1.2.0",
            "_view_name": "StyleView",
            "description_width": ""
          }
        }
      }
    }
  },
  "cells": [
    {
      "cell_type": "markdown",
      "source": [
        "## PROYECTO CURSO PYSPARK"
      ],
      "metadata": {
        "id": "NCxukZ8pXACg"
      }
    },
    {
      "cell_type": "markdown",
      "source": [
        "Autor: Martin Fierro"
      ],
      "metadata": {
        "id": "2D64DLYWXEqN"
      }
    },
    {
      "cell_type": "markdown",
      "source": [
        "## Descripción General del Proyecto\n",
        "\n"
      ],
      "metadata": {
        "id": "IY75Ji1cXRjn"
      }
    },
    {
      "cell_type": "markdown",
      "source": [
        "### 1. Selección de la Fuente de Datos\n",
        "\n",
        "- **Nombre del Dataset**: NYC Taxi Trips (Yellow, Green o FHV Trips).  \n",
        "- **Proveedores**:  \n",
        "  - [NYC Taxi & Limousine Commission (TLC)](https://www1.nyc.gov/site/tlc/about/tlc-trip-record-data.page), que publica mensualmente todos los viajes realizados.  \n",
        "  - Copias alternativas en [Kaggle](https://www.kaggle.com/datasets), que a veces tienen los archivos consolidados en diferentes formatos.  \n",
        "- **Volumen**: Se puede alcanzar fácilmente cientos de millones de registros si se descargan varios años de datos. Esto justifica el uso de técnicas de optimización y escalabilidad.\n",
        "\n",
        "### 2. Objetivos de Negocio y Analíticos\n",
        "\n",
        "1. **Análisis de Demanda de Taxis**:  \n",
        "   - Identificar los horarios de mayor afluencia en distintas zonas de la ciudad.  \n",
        "   - Calcular el volumen de viajes por día/semana/mes.  \n",
        "\n",
        "2. **Análisis de Duración y Distancia de Viajes**:  \n",
        "   - Estimar el tiempo promedio de recorrido entre distintas zonas, o el tiempo total de cada jornada.  \n",
        "   - Detectar picos de duración (por congestión, eventos masivos, etc.).\n",
        "\n",
        "3. **Costos y Propinas**:  \n",
        "   - Relacionar montos de propinas con la hora del día, el día de la semana o la zona de recogida.  \n",
        "   - Evaluar patrones de pagos en efectivo vs. tarjeta.\n",
        "\n",
        "4. **Optimización de Consultas y Procesamiento**:  \n",
        "   - Aplicar las técnicas de particionamiento (por fecha, zona o ambas).  \n",
        "   - Usar Z-Ordering para columnas clave, como fecha/hora o zonas geográficas.  \n",
        "   - Aplicar broadcast joins y manejo de skew con tablas auxiliares (por ejemplo, dimensiones de zonas o festivos).  \n",
        "   - Caching y persistencia para exploraciones repetitivas."
      ],
      "metadata": {
        "id": "pV9pEndbXZ5E"
      }
    },
    {
      "cell_type": "markdown",
      "source": [
        "## Librerias"
      ],
      "metadata": {
        "id": "8Gxk9ov-ZA1b"
      }
    },
    {
      "cell_type": "code",
      "source": [
        "from pyspark.sql import SparkSession\n",
        "from pyspark.sql.functions import *\n",
        "from pyspark.sql.functions import sum as spark_sum"
      ],
      "metadata": {
        "id": "zCUjERTqY8X9"
      },
      "execution_count": 1,
      "outputs": []
    },
    {
      "cell_type": "code",
      "source": [
        "import time"
      ],
      "metadata": {
        "id": "YFPFGCy8voiQ"
      },
      "execution_count": 2,
      "outputs": []
    },
    {
      "cell_type": "markdown",
      "source": [
        "## Utils"
      ],
      "metadata": {
        "id": "TluJTrivvSHg"
      }
    },
    {
      "cell_type": "code",
      "source": [
        "def medir_tiempo_funcion(funcion):\n",
        "  star_time = time.time()\n",
        "  funcion()\n",
        "  end_time = time.time()\n",
        "  execution_time = end_time - star_time\n",
        "  return execution_time"
      ],
      "metadata": {
        "id": "UDonGlRDv0i8"
      },
      "execution_count": 3,
      "outputs": []
    },
    {
      "cell_type": "code",
      "source": [
        "def medir_tiempo_repeticiones(funcion, repeticiones):\n",
        "  star_time = time.time()\n",
        "  for _ in range(repeticiones):\n",
        "    funcion()\n",
        "  end_time = time.time()\n",
        "  execution_time = end_time - star_time\n",
        "  return execution_time"
      ],
      "metadata": {
        "id": "FwsqD5WJvUN6"
      },
      "execution_count": 4,
      "outputs": []
    },
    {
      "cell_type": "markdown",
      "source": [
        "## 1. Adquisición y Preparación de Datos\n",
        "\n",
        "1. **Descarga de Datos**  \n",
        "   - Obtener los archivos CSV o Parquet de uno o varios años de registros de taxi (p. ej. Yellow Taxi Trip Records).  \n",
        "   - Verificar la disponibilidad de los campos (por ejemplo: pickup_datetime, dropoff_datetime, pickup_location, dropoff_location, passenger_count, trip_distance, total_amount, etc.).\n",
        "\n",
        "2. **Limpieza y Estandarización**  \n",
        "   - Eliminar filas con datos claramente inconsistentes (distancias negativas, tiempos de viaje nulos, etc.).  \n",
        "   - Convertir tipos de columnas (fecha/hora, numéricos, etc.) y unificar formatos.  \n",
        "   - Agregar columnas derivadas si se requiere (por ejemplo, “hora del día” de la recogida, “día de la semana”, “zona geográfica” unificada a partir de lat/long o “LocationID” si se usa la tabla de zonas).\n",
        "\n",
        "3. **Enriquecimiento con Tablas Auxiliares**  \n",
        "   - Incorporar la tabla “Taxi Zone Lookup” que relaciona cada LocationID con un barrio o zona (por ejemplo, Bronx, Brooklyn, Manhattan, etc.).  \n",
        "   - (Opcional) Añadir información de clima o de eventos de la ciudad para un análisis predictivo más sofisticado."
      ],
      "metadata": {
        "id": "4eFEJ-uhXgnU"
      }
    },
    {
      "cell_type": "code",
      "source": [
        "# Crear una SparkSession\n",
        "spark = SparkSession.builder \\\n",
        "    .appName(\"Leer archivo Parquet\") \\\n",
        "    .getOrCreate()"
      ],
      "metadata": {
        "id": "dmHSSbqsZGHC"
      },
      "execution_count": 5,
      "outputs": []
    },
    {
      "cell_type": "code",
      "source": [
        "LRF_codigos = spark.read.csv(\"taxi_zone_lookup.csv\", header=True, inferSchema=True)"
      ],
      "metadata": {
        "id": "8sYr28B8kCM0"
      },
      "execution_count": 6,
      "outputs": []
    },
    {
      "cell_type": "code",
      "source": [
        "LRF_codigos = LRF_codigos.select(\"LocationID\",\"Borough\")"
      ],
      "metadata": {
        "id": "PaBrXkYtoX6R"
      },
      "execution_count": 7,
      "outputs": []
    },
    {
      "cell_type": "code",
      "source": [
        "# Leer el archivo Parquet\n",
        "enero = spark.read.parquet(\"enero.parquet\")\n",
        "\n",
        "# Opcional: Mostrar el esquema del DataFrame\n",
        "enero.printSchema()"
      ],
      "metadata": {
        "colab": {
          "base_uri": "https://localhost:8080/"
        },
        "id": "QqRogG8KXkbR",
        "outputId": "8245a9e4-9d49-480c-a72d-ae14e686cc66"
      },
      "execution_count": 8,
      "outputs": [
        {
          "output_type": "stream",
          "name": "stdout",
          "text": [
            "root\n",
            " |-- VendorID: integer (nullable = true)\n",
            " |-- tpep_pickup_datetime: timestamp_ntz (nullable = true)\n",
            " |-- tpep_dropoff_datetime: timestamp_ntz (nullable = true)\n",
            " |-- passenger_count: long (nullable = true)\n",
            " |-- trip_distance: double (nullable = true)\n",
            " |-- RatecodeID: long (nullable = true)\n",
            " |-- store_and_fwd_flag: string (nullable = true)\n",
            " |-- PULocationID: integer (nullable = true)\n",
            " |-- DOLocationID: integer (nullable = true)\n",
            " |-- payment_type: long (nullable = true)\n",
            " |-- fare_amount: double (nullable = true)\n",
            " |-- extra: double (nullable = true)\n",
            " |-- mta_tax: double (nullable = true)\n",
            " |-- tip_amount: double (nullable = true)\n",
            " |-- tolls_amount: double (nullable = true)\n",
            " |-- improvement_surcharge: double (nullable = true)\n",
            " |-- total_amount: double (nullable = true)\n",
            " |-- congestion_surcharge: double (nullable = true)\n",
            " |-- Airport_fee: double (nullable = true)\n",
            "\n"
          ]
        }
      ]
    },
    {
      "cell_type": "code",
      "source": [
        "numero_filas = enero.count()\n",
        "numero_filas"
      ],
      "metadata": {
        "colab": {
          "base_uri": "https://localhost:8080/"
        },
        "id": "lDpfX5OndhbH",
        "outputId": "4958bf65-df28-49d6-8944-d654fa985f23"
      },
      "execution_count": 9,
      "outputs": [
        {
          "output_type": "execute_result",
          "data": {
            "text/plain": [
              "2964624"
            ]
          },
          "metadata": {},
          "execution_count": 9
        }
      ]
    },
    {
      "cell_type": "code",
      "source": [
        "nulos_por_columna = enero.select(\n",
        "    [\n",
        "        sum(col(c).isNull().cast(\"int\")).alias(c) for c in enero.columns\n",
        "    ]\n",
        ")\n",
        "\n",
        "nulos_por_columna.show()"
      ],
      "metadata": {
        "colab": {
          "base_uri": "https://localhost:8080/"
        },
        "id": "wfu0JUzaZJ0F",
        "outputId": "609e8e45-0d93-4b8b-c67c-2dbd9b1ed25d"
      },
      "execution_count": 10,
      "outputs": [
        {
          "output_type": "stream",
          "name": "stdout",
          "text": [
            "+--------+--------------------+---------------------+---------------+-------------+----------+------------------+------------+------------+------------+-----------+-----+-------+----------+------------+---------------------+------------+--------------------+-----------+\n",
            "|VendorID|tpep_pickup_datetime|tpep_dropoff_datetime|passenger_count|trip_distance|RatecodeID|store_and_fwd_flag|PULocationID|DOLocationID|payment_type|fare_amount|extra|mta_tax|tip_amount|tolls_amount|improvement_surcharge|total_amount|congestion_surcharge|Airport_fee|\n",
            "+--------+--------------------+---------------------+---------------+-------------+----------+------------------+------------+------------+------------+-----------+-----+-------+----------+------------+---------------------+------------+--------------------+-----------+\n",
            "|       0|                   0|                    0|         140162|            0|    140162|            140162|           0|           0|           0|          0|    0|      0|         0|           0|                    0|           0|              140162|     140162|\n",
            "+--------+--------------------+---------------------+---------------+-------------+----------+------------------+------------+------------+------------+-----------+-----+-------+----------+------------+---------------------+------------+--------------------+-----------+\n",
            "\n"
          ]
        }
      ]
    },
    {
      "cell_type": "code",
      "source": [
        "clean_df = enero.filter(col(\"trip_distance\") > 0)\n",
        "clean_df = enero.filter(col(\"passenger_count\") > 0)\n",
        "clean_df = enero.filter(col(\"total_amount\") > 0)"
      ],
      "metadata": {
        "id": "UYhlfY0-eDjc"
      },
      "execution_count": 11,
      "outputs": []
    },
    {
      "cell_type": "code",
      "source": [
        "clean_df.count()"
      ],
      "metadata": {
        "colab": {
          "base_uri": "https://localhost:8080/"
        },
        "id": "NAtRuNURgEbo",
        "outputId": "14d4add8-ddbd-4e25-f9c0-6f679b0f56fb"
      },
      "execution_count": 12,
      "outputs": [
        {
          "output_type": "execute_result",
          "data": {
            "text/plain": [
              "2928704"
            ]
          },
          "metadata": {},
          "execution_count": 12
        }
      ]
    },
    {
      "cell_type": "code",
      "source": [
        "clean_df= clean_df.withColumn(\"dia_pickup\", dayofmonth(col(\"tpep_pickup_datetime\"))) \\\n",
        "    .withColumn(\"mes_pickup\", month(col(\"tpep_pickup_datetime\"))) \\\n",
        "    .withColumn(\"hora_pickup\", hour(col(\"tpep_pickup_datetime\")))"
      ],
      "metadata": {
        "id": "zhtCFz4miCb1"
      },
      "execution_count": 13,
      "outputs": []
    },
    {
      "cell_type": "code",
      "source": [
        "clean_df = clean_df.withColumn(\"dia_semana_pickup\", date_format(\"tpep_pickup_datetime\", \"EEEE\"))"
      ],
      "metadata": {
        "id": "VeDKM6uWHBDf"
      },
      "execution_count": 14,
      "outputs": []
    },
    {
      "cell_type": "code",
      "source": [
        "clean_df.show()"
      ],
      "metadata": {
        "colab": {
          "base_uri": "https://localhost:8080/"
        },
        "id": "9pgVqDcjilWj",
        "outputId": "d0f565cc-f3fd-49df-b940-fa567b30ea2d"
      },
      "execution_count": 15,
      "outputs": [
        {
          "output_type": "stream",
          "name": "stdout",
          "text": [
            "+--------+--------------------+---------------------+---------------+-------------+----------+------------------+------------+------------+------------+-----------+-----+-------+----------+------------+---------------------+------------+--------------------+-----------+----------+----------+-----------+-----------------+\n",
            "|VendorID|tpep_pickup_datetime|tpep_dropoff_datetime|passenger_count|trip_distance|RatecodeID|store_and_fwd_flag|PULocationID|DOLocationID|payment_type|fare_amount|extra|mta_tax|tip_amount|tolls_amount|improvement_surcharge|total_amount|congestion_surcharge|Airport_fee|dia_pickup|mes_pickup|hora_pickup|dia_semana_pickup|\n",
            "+--------+--------------------+---------------------+---------------+-------------+----------+------------------+------------+------------+------------+-----------+-----+-------+----------+------------+---------------------+------------+--------------------+-----------+----------+----------+-----------+-----------------+\n",
            "|       2| 2024-01-01 00:57:55|  2024-01-01 01:17:43|              1|         1.72|         1|                 N|         186|          79|           2|       17.7|  1.0|    0.5|       0.0|         0.0|                  1.0|        22.7|                 2.5|        0.0|         1|         1|          0|           Monday|\n",
            "|       1| 2024-01-01 00:03:00|  2024-01-01 00:09:36|              1|          1.8|         1|                 N|         140|         236|           1|       10.0|  3.5|    0.5|      3.75|         0.0|                  1.0|       18.75|                 2.5|        0.0|         1|         1|          0|           Monday|\n",
            "|       1| 2024-01-01 00:17:06|  2024-01-01 00:35:01|              1|          4.7|         1|                 N|         236|          79|           1|       23.3|  3.5|    0.5|       3.0|         0.0|                  1.0|        31.3|                 2.5|        0.0|         1|         1|          0|           Monday|\n",
            "|       1| 2024-01-01 00:36:38|  2024-01-01 00:44:56|              1|          1.4|         1|                 N|          79|         211|           1|       10.0|  3.5|    0.5|       2.0|         0.0|                  1.0|        17.0|                 2.5|        0.0|         1|         1|          0|           Monday|\n",
            "|       1| 2024-01-01 00:46:51|  2024-01-01 00:52:57|              1|          0.8|         1|                 N|         211|         148|           1|        7.9|  3.5|    0.5|       3.2|         0.0|                  1.0|        16.1|                 2.5|        0.0|         1|         1|          0|           Monday|\n",
            "|       1| 2024-01-01 00:54:08|  2024-01-01 01:26:31|              1|          4.7|         1|                 N|         148|         141|           1|       29.6|  3.5|    0.5|       6.9|         0.0|                  1.0|        41.5|                 2.5|        0.0|         1|         1|          0|           Monday|\n",
            "|       2| 2024-01-01 00:49:44|  2024-01-01 01:15:47|              2|        10.82|         1|                 N|         138|         181|           1|       45.7|  6.0|    0.5|      10.0|         0.0|                  1.0|       64.95|                 0.0|       1.75|         1|         1|          0|           Monday|\n",
            "|       1| 2024-01-01 00:30:40|  2024-01-01 00:58:40|              0|          3.0|         1|                 N|         246|         231|           2|       25.4|  3.5|    0.5|       0.0|         0.0|                  1.0|        30.4|                 2.5|        0.0|         1|         1|          0|           Monday|\n",
            "|       2| 2024-01-01 00:26:01|  2024-01-01 00:54:12|              1|         5.44|         1|                 N|         161|         261|           2|       31.0|  1.0|    0.5|       0.0|         0.0|                  1.0|        36.0|                 2.5|        0.0|         1|         1|          0|           Monday|\n",
            "|       2| 2024-01-01 00:28:08|  2024-01-01 00:29:16|              1|         0.04|         1|                 N|         113|         113|           2|        3.0|  1.0|    0.5|       0.0|         0.0|                  1.0|         8.0|                 2.5|        0.0|         1|         1|          0|           Monday|\n",
            "|       2| 2024-01-01 00:35:22|  2024-01-01 00:41:41|              2|         0.75|         1|                 N|         107|         137|           1|        7.9|  1.0|    0.5|       0.0|         0.0|                  1.0|        12.9|                 2.5|        0.0|         1|         1|          0|           Monday|\n",
            "|       1| 2024-01-01 00:25:00|  2024-01-01 00:34:03|              2|          1.2|         1|                 N|         158|         246|           1|       14.9|  3.5|    0.5|      3.95|         0.0|                  1.0|       23.85|                 2.5|        0.0|         1|         1|          0|           Monday|\n",
            "|       1| 2024-01-01 00:35:16|  2024-01-01 01:11:52|              2|          8.2|         1|                 N|         246|         190|           1|       59.0|  3.5|    0.5|     14.15|        6.94|                  1.0|       85.09|                 2.5|        0.0|         1|         1|          0|           Monday|\n",
            "|       1| 2024-01-01 00:43:27|  2024-01-01 00:47:11|              2|          0.4|         1|                 N|          68|          90|           1|        5.8|  3.5|    0.5|      1.25|         0.0|                  1.0|       12.05|                 2.5|        0.0|         1|         1|          0|           Monday|\n",
            "|       1| 2024-01-01 00:51:53|  2024-01-01 00:55:43|              1|          0.8|         1|                 N|          90|          68|           2|        6.5|  3.5|    0.5|       0.0|         0.0|                  1.0|        11.5|                 2.5|        0.0|         1|         1|          0|           Monday|\n",
            "|       1| 2024-01-01 00:50:09|  2024-01-01 01:03:57|              1|          5.0|         1|                 N|         132|         216|           2|       21.2| 2.75|    0.5|       0.0|         0.0|                  1.0|       25.45|                 0.0|       1.75|         1|         1|          0|           Monday|\n",
            "|       1| 2024-01-01 00:41:06|  2024-01-01 00:53:42|              1|          1.5|         1|                 N|         164|          79|           1|       12.8|  3.5|    0.5|      4.45|         0.0|                  1.0|       22.25|                 2.5|        0.0|         1|         1|          0|           Monday|\n",
            "|       2| 2024-01-01 00:52:09|  2024-01-01 00:52:28|              1|          0.0|         1|                 N|         237|         237|           2|        3.0|  1.0|    0.5|       0.0|         0.0|                  1.0|         8.0|                 2.5|        0.0|         1|         1|          0|           Monday|\n",
            "|       2| 2024-01-01 00:56:38|  2024-01-01 01:03:17|              1|          1.5|         1|                 N|         141|         263|           1|        9.3|  1.0|    0.5|       3.0|         0.0|                  1.0|        17.3|                 2.5|        0.0|         1|         1|          0|           Monday|\n",
            "|       2| 2024-01-01 00:32:34|  2024-01-01 00:49:33|              1|         2.57|         1|                 N|         161|         263|           1|       17.7|  1.0|    0.5|      10.0|         0.0|                  1.0|        32.7|                 2.5|        0.0|         1|         1|          0|           Monday|\n",
            "+--------+--------------------+---------------------+---------------+-------------+----------+------------------+------------+------------+------------+-----------+-----+-------+----------+------------+---------------------+------------+--------------------+-----------+----------+----------+-----------+-----------------+\n",
            "only showing top 20 rows\n",
            "\n"
          ]
        }
      ]
    },
    {
      "cell_type": "code",
      "source": [
        "clean_df = clean_df.join(LRF_codigos, clean_df[\"PULocationID\"] == LRF_codigos[\"LocationID\"], how=\"left\")"
      ],
      "metadata": {
        "id": "hfzQweH4khmB"
      },
      "execution_count": 16,
      "outputs": []
    },
    {
      "cell_type": "markdown",
      "source": [
        "## 2. Particionamiento y Clustering\n",
        "\n",
        "1. **Diseño del Esquema de Particionamiento**  \n",
        "   - Decidir si se particionará por **año/mes** de la fecha de recogida (pickup_datetime) o por zona geográfica, o incluso una combinación de ambas (aunque se debe evitar crear un exceso de particiones).  \n",
        "   - Justificar la decisión en función de las consultas más frecuentes (por ejemplo, filtros por fecha o análisis por zonas).\n",
        "\n",
        "2. **Implementación y Medición de Rendimiento**  \n",
        "   - Crear un directorio (o tabla en Delta, si se usa un lago de datos) particionado por la columna elegida.  \n",
        "   - Medir el tamaño total de los archivos y el número de archivos resultantes.  \n",
        "   - Ejecutar algunas consultas comparativas antes y después del particionado, anotando el tiempo requerido.\n",
        "\n",
        "3. **Liquid Clustering / Auto Optimize** (según la plataforma)  \n",
        "   - Describir cómo se implementarían técnicas de reescritura dinámica para mantener los datos optimizados a medida que se realizan inserciones o actualizaciones (en caso de que se use un formato como Delta Lake).  \n",
        "   - Evaluar la variación en el tamaño promedio de los archivos y la latencia de las consultas tras esta optimización."
      ],
      "metadata": {
        "id": "d30dwDuohK7-"
      }
    },
    {
      "cell_type": "code",
      "source": [
        "clean_df.groupBy(\"mes_pickup\").count().show()"
      ],
      "metadata": {
        "colab": {
          "base_uri": "https://localhost:8080/"
        },
        "id": "g2SpZCOQg2_b",
        "outputId": "1926ea01-828a-4738-ebf9-afd579913c2f"
      },
      "execution_count": 17,
      "outputs": [
        {
          "output_type": "stream",
          "name": "stdout",
          "text": [
            "+----------+-------+\n",
            "|mes_pickup|  count|\n",
            "+----------+-------+\n",
            "|        12|     11|\n",
            "|         1|2928690|\n",
            "|         2|      3|\n",
            "+----------+-------+\n",
            "\n"
          ]
        }
      ]
    },
    {
      "cell_type": "code",
      "source": [
        "clean_df.groupBy(\"PULocationID\").count().show()"
      ],
      "metadata": {
        "colab": {
          "base_uri": "https://localhost:8080/"
        },
        "id": "m2_-gIzYjbJh",
        "outputId": "b1bf0191-dbd3-4f58-e875-75e124082fe9"
      },
      "execution_count": 18,
      "outputs": [
        {
          "output_type": "stream",
          "name": "stdout",
          "text": [
            "+------------+-----+\n",
            "|PULocationID|count|\n",
            "+------------+-----+\n",
            "|         148|27566|\n",
            "|         243|  480|\n",
            "|          31|    7|\n",
            "|         137|32575|\n",
            "|         251|    4|\n",
            "|          85|  197|\n",
            "|          65| 1371|\n",
            "|         255| 1098|\n",
            "|          53|   47|\n",
            "|         133|  128|\n",
            "|          78|  193|\n",
            "|         108|  118|\n",
            "|         155|  220|\n",
            "|         211|19983|\n",
            "|          34|   61|\n",
            "|         193| 1653|\n",
            "|         126|  105|\n",
            "|         101|   55|\n",
            "|          81|  127|\n",
            "|          28|  409|\n",
            "+------------+-----+\n",
            "only showing top 20 rows\n",
            "\n"
          ]
        }
      ]
    },
    {
      "cell_type": "code",
      "source": [
        "clean_df.groupBy(\"Borough\").count().show()"
      ],
      "metadata": {
        "colab": {
          "base_uri": "https://localhost:8080/"
        },
        "id": "WZbVgFoMl9C4",
        "outputId": "8607cee0-6b24-401e-e38e-af2feed1e68a"
      },
      "execution_count": 19,
      "outputs": [
        {
          "output_type": "stream",
          "name": "stdout",
          "text": [
            "+-------------+-------+\n",
            "|      Borough|  count|\n",
            "+-------------+-------+\n",
            "|       Queens| 266645|\n",
            "|          EWR|    283|\n",
            "|      Unknown|  10224|\n",
            "|     Brooklyn|  24969|\n",
            "|Staten Island|     69|\n",
            "|          N/A|   1575|\n",
            "|    Manhattan|2618093|\n",
            "|        Bronx|   6846|\n",
            "+-------------+-------+\n",
            "\n"
          ]
        }
      ]
    },
    {
      "cell_type": "code",
      "source": [
        "clean_df.groupBy(\"hora_pickup\").count().show()"
      ],
      "metadata": {
        "colab": {
          "base_uri": "https://localhost:8080/"
        },
        "id": "uDuQIYr3rP0f",
        "outputId": "beec4946-6c24-439a-8fd5-331992f0e6a4"
      },
      "execution_count": 20,
      "outputs": [
        {
          "output_type": "stream",
          "name": "stdout",
          "text": [
            "+-----------+------+\n",
            "|hora_pickup| count|\n",
            "+-----------+------+\n",
            "|         12|162600|\n",
            "|         22|141354|\n",
            "|          1| 52780|\n",
            "|         13|167898|\n",
            "|          6| 40916|\n",
            "|         16|187894|\n",
            "|          3| 24275|\n",
            "|         20|157992|\n",
            "|          5| 18379|\n",
            "|         19|181832|\n",
            "|         15|187076|\n",
            "|          9|127765|\n",
            "|         17|203919|\n",
            "|          4| 16330|\n",
            "|          8|116212|\n",
            "|         23|107641|\n",
            "|          7| 82990|\n",
            "|         10|137293|\n",
            "|         21|158887|\n",
            "|         11|148908|\n",
            "+-----------+------+\n",
            "only showing top 20 rows\n",
            "\n"
          ]
        }
      ]
    },
    {
      "cell_type": "markdown",
      "source": [
        "## 3. Z-Order y Optimización de Lecturas\n",
        "\n",
        "1. **Columnas Candidatas para Z-Order**  \n",
        "   - `pickup_datetime` o la componente de fecha/hora que sea más usada.  \n",
        "   - `pickup_location` o `dropoff_location`, si se filtra con frecuencia por zona.  \n",
        "\n",
        "2. **Aplicación del Z-Ordering**  \n",
        "   - Indicar cómo se ejecutaría la ordenación Z-Order en la tabla particionada (por ejemplo, usando comandos `OPTIMIZE` si se está en Databricks/Delta Lake).  \n",
        "   - Comprobar el impacto en el número de archivos, la fragmentación, etc.\n",
        "\n",
        "3. **Pruebas de Consultas**  \n",
        "   - Realizar queries que filtren por fechas específicas o por zonas concretas.  \n",
        "   - Comparar los tiempos de respuesta con y sin Z-Order.  \n",
        "   - Documentar los resultados y analizar si la cardinalidad de las columnas era la adecuada para percibir una mejora clara.\n",
        "\n",
        "---\n",
        "\n",
        "### 4. Joins, Skew y Broadcast\n",
        "\n",
        "1. **Manejo de Tablas Dimensionales**  \n",
        "   - Integrar la tabla de zonas (dimensión pequeña) con la tabla de viajes (tabla grande).  \n",
        "   - Ilustrar cómo se puede aplicar un **broadcast join** cuando la tabla de zonas es de menor tamaño.\n",
        "\n",
        "2. **Detección y Manejo de Skew**  \n",
        "   - Explorar si ciertos LocationID, fechas o rangos horarios concentran un volumen desproporcionado de viajes.  \n",
        "   - Aplicar técnicas de salting o hints en caso de alta disparidad para evitar cuellos de botella en los shuffles.\n",
        "\n",
        "3. **Medición de Mejoras**  \n",
        "   - Comparar el plan de ejecución y los tiempos con broadcast join vs. un join normal.  \n",
        "   - Analizar el DAG resultante (con `explain()` o Spark UI) y señalar la diferencia en la cantidad de stages o shuffle.\n",
        "\n",
        "---\n",
        "\n",
        "### 5. Caching y Persistencia\n",
        "\n",
        "1. **Identificación de Consultas Frecuentes**  \n",
        "   - Definir consultas que se repitan a lo largo del proyecto, por ejemplo, agregaciones por zona y hora punta, o correlación de distancias y propinas.  \n",
        "   - Decidir qué DataFrame(s) vale la pena cachear (dependerá de la exploración analítica que se realice).\n",
        "\n",
        "2. **Aplicación de Cache**  \n",
        "   - Justificar el nivel de persistencia.  \n",
        "   - Medir la mejora en tiempo de ejecución de las consultas sucesivas tras el cache.\n",
        "\n",
        "3. **Liberación de Caché**  \n",
        "   - Proponer condiciones o estrategias para liberar el cache cuando ya no se requiera, optimizando el uso de memoria.\n",
        "\n",
        "---\n",
        "\n"
      ],
      "metadata": {
        "id": "UPiOcCyor2qa"
      }
    },
    {
      "cell_type": "markdown",
      "source": [
        "## 6. Análisis de Alto Nivel y Visualizaciones\n",
        "\n",
        "1. **Consultas de Negocio**  \n",
        "   - Calcular indicadores como:  \n",
        "     - Volumen de viajes promedio por día de la semana.  \n",
        "     - Total de viajes y recaudación por zona de recogida.  \n",
        "     - Evolución de la propina media por mes.  \n",
        "   - Identificar patrones relevantes, picos de demanda o anomalías en la duración de los recorridos.\n",
        "\n",
        "2. **Visualización**  \n",
        "   - Generar gráficas (de barras, líneas o mapas interactivos) que ayuden a entender mejor la distribución geográfica y temporal de los viajes.  \n",
        "   - Mostrar cómo las optimizaciones (particionamiento, Z-Order, etc.) permiten que el análisis sea más ágil incluso con un dataset de gran tamaño.\n",
        "\n",
        "---\n",
        "\n"
      ],
      "metadata": {
        "id": "6dvZplkuFX3s"
      }
    },
    {
      "cell_type": "code",
      "source": [
        "clean_df.show()"
      ],
      "metadata": {
        "colab": {
          "base_uri": "https://localhost:8080/"
        },
        "id": "A8u0T9HRFilE",
        "outputId": "873a3581-0220-45b8-be37-232f5d6d53b0"
      },
      "execution_count": 21,
      "outputs": [
        {
          "output_type": "stream",
          "name": "stdout",
          "text": [
            "+--------+--------------------+---------------------+---------------+-------------+----------+------------------+------------+------------+------------+-----------+-----+-------+----------+------------+---------------------+------------+--------------------+-----------+----------+----------+-----------+-----------------+----------+---------+\n",
            "|VendorID|tpep_pickup_datetime|tpep_dropoff_datetime|passenger_count|trip_distance|RatecodeID|store_and_fwd_flag|PULocationID|DOLocationID|payment_type|fare_amount|extra|mta_tax|tip_amount|tolls_amount|improvement_surcharge|total_amount|congestion_surcharge|Airport_fee|dia_pickup|mes_pickup|hora_pickup|dia_semana_pickup|LocationID|  Borough|\n",
            "+--------+--------------------+---------------------+---------------+-------------+----------+------------------+------------+------------+------------+-----------+-----+-------+----------+------------+---------------------+------------+--------------------+-----------+----------+----------+-----------+-----------------+----------+---------+\n",
            "|       2| 2024-01-01 00:57:55|  2024-01-01 01:17:43|              1|         1.72|         1|                 N|         186|          79|           2|       17.7|  1.0|    0.5|       0.0|         0.0|                  1.0|        22.7|                 2.5|        0.0|         1|         1|          0|           Monday|       186|Manhattan|\n",
            "|       1| 2024-01-01 00:03:00|  2024-01-01 00:09:36|              1|          1.8|         1|                 N|         140|         236|           1|       10.0|  3.5|    0.5|      3.75|         0.0|                  1.0|       18.75|                 2.5|        0.0|         1|         1|          0|           Monday|       140|Manhattan|\n",
            "|       1| 2024-01-01 00:17:06|  2024-01-01 00:35:01|              1|          4.7|         1|                 N|         236|          79|           1|       23.3|  3.5|    0.5|       3.0|         0.0|                  1.0|        31.3|                 2.5|        0.0|         1|         1|          0|           Monday|       236|Manhattan|\n",
            "|       1| 2024-01-01 00:36:38|  2024-01-01 00:44:56|              1|          1.4|         1|                 N|          79|         211|           1|       10.0|  3.5|    0.5|       2.0|         0.0|                  1.0|        17.0|                 2.5|        0.0|         1|         1|          0|           Monday|        79|Manhattan|\n",
            "|       1| 2024-01-01 00:46:51|  2024-01-01 00:52:57|              1|          0.8|         1|                 N|         211|         148|           1|        7.9|  3.5|    0.5|       3.2|         0.0|                  1.0|        16.1|                 2.5|        0.0|         1|         1|          0|           Monday|       211|Manhattan|\n",
            "|       1| 2024-01-01 00:54:08|  2024-01-01 01:26:31|              1|          4.7|         1|                 N|         148|         141|           1|       29.6|  3.5|    0.5|       6.9|         0.0|                  1.0|        41.5|                 2.5|        0.0|         1|         1|          0|           Monday|       148|Manhattan|\n",
            "|       2| 2024-01-01 00:49:44|  2024-01-01 01:15:47|              2|        10.82|         1|                 N|         138|         181|           1|       45.7|  6.0|    0.5|      10.0|         0.0|                  1.0|       64.95|                 0.0|       1.75|         1|         1|          0|           Monday|       138|   Queens|\n",
            "|       1| 2024-01-01 00:30:40|  2024-01-01 00:58:40|              0|          3.0|         1|                 N|         246|         231|           2|       25.4|  3.5|    0.5|       0.0|         0.0|                  1.0|        30.4|                 2.5|        0.0|         1|         1|          0|           Monday|       246|Manhattan|\n",
            "|       2| 2024-01-01 00:26:01|  2024-01-01 00:54:12|              1|         5.44|         1|                 N|         161|         261|           2|       31.0|  1.0|    0.5|       0.0|         0.0|                  1.0|        36.0|                 2.5|        0.0|         1|         1|          0|           Monday|       161|Manhattan|\n",
            "|       2| 2024-01-01 00:28:08|  2024-01-01 00:29:16|              1|         0.04|         1|                 N|         113|         113|           2|        3.0|  1.0|    0.5|       0.0|         0.0|                  1.0|         8.0|                 2.5|        0.0|         1|         1|          0|           Monday|       113|Manhattan|\n",
            "|       2| 2024-01-01 00:35:22|  2024-01-01 00:41:41|              2|         0.75|         1|                 N|         107|         137|           1|        7.9|  1.0|    0.5|       0.0|         0.0|                  1.0|        12.9|                 2.5|        0.0|         1|         1|          0|           Monday|       107|Manhattan|\n",
            "|       1| 2024-01-01 00:25:00|  2024-01-01 00:34:03|              2|          1.2|         1|                 N|         158|         246|           1|       14.9|  3.5|    0.5|      3.95|         0.0|                  1.0|       23.85|                 2.5|        0.0|         1|         1|          0|           Monday|       158|Manhattan|\n",
            "|       1| 2024-01-01 00:35:16|  2024-01-01 01:11:52|              2|          8.2|         1|                 N|         246|         190|           1|       59.0|  3.5|    0.5|     14.15|        6.94|                  1.0|       85.09|                 2.5|        0.0|         1|         1|          0|           Monday|       246|Manhattan|\n",
            "|       1| 2024-01-01 00:43:27|  2024-01-01 00:47:11|              2|          0.4|         1|                 N|          68|          90|           1|        5.8|  3.5|    0.5|      1.25|         0.0|                  1.0|       12.05|                 2.5|        0.0|         1|         1|          0|           Monday|        68|Manhattan|\n",
            "|       1| 2024-01-01 00:51:53|  2024-01-01 00:55:43|              1|          0.8|         1|                 N|          90|          68|           2|        6.5|  3.5|    0.5|       0.0|         0.0|                  1.0|        11.5|                 2.5|        0.0|         1|         1|          0|           Monday|        90|Manhattan|\n",
            "|       1| 2024-01-01 00:50:09|  2024-01-01 01:03:57|              1|          5.0|         1|                 N|         132|         216|           2|       21.2| 2.75|    0.5|       0.0|         0.0|                  1.0|       25.45|                 0.0|       1.75|         1|         1|          0|           Monday|       132|   Queens|\n",
            "|       1| 2024-01-01 00:41:06|  2024-01-01 00:53:42|              1|          1.5|         1|                 N|         164|          79|           1|       12.8|  3.5|    0.5|      4.45|         0.0|                  1.0|       22.25|                 2.5|        0.0|         1|         1|          0|           Monday|       164|Manhattan|\n",
            "|       2| 2024-01-01 00:52:09|  2024-01-01 00:52:28|              1|          0.0|         1|                 N|         237|         237|           2|        3.0|  1.0|    0.5|       0.0|         0.0|                  1.0|         8.0|                 2.5|        0.0|         1|         1|          0|           Monday|       237|Manhattan|\n",
            "|       2| 2024-01-01 00:56:38|  2024-01-01 01:03:17|              1|          1.5|         1|                 N|         141|         263|           1|        9.3|  1.0|    0.5|       3.0|         0.0|                  1.0|        17.3|                 2.5|        0.0|         1|         1|          0|           Monday|       141|Manhattan|\n",
            "|       2| 2024-01-01 00:32:34|  2024-01-01 00:49:33|              1|         2.57|         1|                 N|         161|         263|           1|       17.7|  1.0|    0.5|      10.0|         0.0|                  1.0|        32.7|                 2.5|        0.0|         1|         1|          0|           Monday|       161|Manhattan|\n",
            "+--------+--------------------+---------------------+---------------+-------------+----------+------------------+------------+------------+------------+-----------+-----+-------+----------+------------+---------------------+------------+--------------------+-----------+----------+----------+-----------+-----------------+----------+---------+\n",
            "only showing top 20 rows\n",
            "\n"
          ]
        }
      ]
    },
    {
      "cell_type": "code",
      "source": [
        "viajes_promedio = clean_df.groupBy(\"dia_semana_pickup\").agg(count('*').alias(\"viajes_promedio\"))"
      ],
      "metadata": {
        "id": "rsM9z0NmGMvo"
      },
      "execution_count": 22,
      "outputs": []
    },
    {
      "cell_type": "code",
      "source": [
        "total_viajes = clean_df.groupBy(\"Borough\").agg(count('*').alias(\"total viajes\"),count('total_amount').alias(\"total recaudacion\"))\n",
        "total_viajes.show()"
      ],
      "metadata": {
        "colab": {
          "base_uri": "https://localhost:8080/"
        },
        "id": "3Wk_a6doJLfv",
        "outputId": "670f9031-6c3a-46d4-a7a6-8c0b69ec7fb9"
      },
      "execution_count": 23,
      "outputs": [
        {
          "output_type": "stream",
          "name": "stdout",
          "text": [
            "+-------------+------------+-----------------+\n",
            "|      Borough|total viajes|total recaudacion|\n",
            "+-------------+------------+-----------------+\n",
            "|       Queens|      266645|           266645|\n",
            "|          EWR|         283|              283|\n",
            "|      Unknown|       10224|            10224|\n",
            "|     Brooklyn|       24969|            24969|\n",
            "|Staten Island|          69|               69|\n",
            "|          N/A|        1575|             1575|\n",
            "|    Manhattan|     2618093|          2618093|\n",
            "|        Bronx|        6846|             6846|\n",
            "+-------------+------------+-----------------+\n",
            "\n"
          ]
        }
      ]
    },
    {
      "cell_type": "code",
      "source": [
        "zona_propina = clean_df.groupBy(\"Borough\").agg(avg('tip_amount').alias(\"propina media\"))\n",
        "zona_propina.show()"
      ],
      "metadata": {
        "colab": {
          "base_uri": "https://localhost:8080/"
        },
        "id": "YaZaTP6_yNDl",
        "outputId": "71b1bfd1-3851-47ff-ec27-69304b8e2b75"
      },
      "execution_count": 24,
      "outputs": [
        {
          "output_type": "stream",
          "name": "stdout",
          "text": [
            "+-------------+------------------+\n",
            "|      Borough|     propina media|\n",
            "+-------------+------------------+\n",
            "|       Queens| 8.356448986478773|\n",
            "|          EWR|13.185583038869252|\n",
            "|      Unknown| 3.473061424100151|\n",
            "|     Brooklyn|1.6121775001001244|\n",
            "|Staten Island|3.8879710144927544|\n",
            "|          N/A|  8.38340952380953|\n",
            "|    Manhattan| 2.889038319112452|\n",
            "|        Bronx|0.3060984516505989|\n",
            "+-------------+------------------+\n",
            "\n"
          ]
        }
      ]
    },
    {
      "cell_type": "code",
      "source": [
        "propinas = clean_df.groupBy(\"mes_pickup\").agg(avg('tip_amount').alias(\"propina media\"))\n",
        "propinas = propinas.orderBy(\"mes_pickup\")\n",
        "propinas.show()"
      ],
      "metadata": {
        "colab": {
          "base_uri": "https://localhost:8080/"
        },
        "id": "V_VR9dViLgb5",
        "outputId": "d92668d6-6c44-4c0e-e71e-f7e1587ca6b4"
      },
      "execution_count": 25,
      "outputs": [
        {
          "output_type": "stream",
          "name": "stdout",
          "text": [
            "+----------+------------------+\n",
            "|mes_pickup|     propina media|\n",
            "+----------+------------------+\n",
            "|         1|3.3759141595735245|\n",
            "|         2|2.0933333333333333|\n",
            "|        12| 2.388181818181818|\n",
            "+----------+------------------+\n",
            "\n"
          ]
        }
      ]
    },
    {
      "cell_type": "code",
      "source": [
        "horas_pico = clean_df.groupBy(\"hora_pickup\").agg(count('*').alias(\"total_viajes\"))\n",
        "horas_pico = horas_pico.orderBy(\"total_viajes\", ascending=False)\n",
        "horas_pico.show()"
      ],
      "metadata": {
        "colab": {
          "base_uri": "https://localhost:8080/"
        },
        "id": "Lg9RbU3WMRk7",
        "outputId": "1cf32d85-e1a0-4056-9d75-94ab3884bc81"
      },
      "execution_count": 26,
      "outputs": [
        {
          "output_type": "stream",
          "name": "stdout",
          "text": [
            "+-----------+------------+\n",
            "|hora_pickup|total_viajes|\n",
            "+-----------+------------+\n",
            "|         18|      210308|\n",
            "|         17|      203919|\n",
            "|         16|      187894|\n",
            "|         15|      187076|\n",
            "|         19|      181832|\n",
            "|         14|      180848|\n",
            "|         13|      167898|\n",
            "|         12|      162600|\n",
            "|         21|      158887|\n",
            "|         20|      157992|\n",
            "|         11|      148908|\n",
            "|         22|      141354|\n",
            "|         10|      137293|\n",
            "|          9|      127765|\n",
            "|          8|      116212|\n",
            "|         23|      107641|\n",
            "|          7|       82990|\n",
            "|          0|       77778|\n",
            "|          1|       52780|\n",
            "|          6|       40916|\n",
            "+-----------+------------+\n",
            "only showing top 20 rows\n",
            "\n"
          ]
        }
      ]
    },
    {
      "cell_type": "code",
      "source": [
        "horas_pico_distancia = clean_df.groupBy(\"hora_pickup\").agg(avg('trip_distance').alias(\"distancia media\"))\n",
        "horas_pico_distancia.show()"
      ],
      "metadata": {
        "colab": {
          "base_uri": "https://localhost:8080/"
        },
        "id": "mb2xSyKVMArN",
        "outputId": "904c272f-a332-47ff-ff1c-2e4800cc451d"
      },
      "execution_count": 27,
      "outputs": [
        {
          "output_type": "stream",
          "name": "stdout",
          "text": [
            "+-----------+------------------+\n",
            "|hora_pickup|   distancia media|\n",
            "+-----------+------------------+\n",
            "|         12| 3.297698093480924|\n",
            "|         22|  3.58507145181598|\n",
            "|          1| 3.130948275862061|\n",
            "|         13| 3.117276560769043|\n",
            "|          6|12.982980252224083|\n",
            "|         16|3.3483180410231133|\n",
            "|          3|3.3264238928939114|\n",
            "|         20|3.3116525520279745|\n",
            "|          5| 8.736985146090621|\n",
            "|         19|3.1091326609177736|\n",
            "|         15|3.8971129915114684|\n",
            "|          9|3.0005532814151024|\n",
            "|         17|3.0107887445504926|\n",
            "|          4| 4.565380281690132|\n",
            "|          8| 5.465322341926821|\n",
            "|         23|3.9124187809478097|\n",
            "|          7| 6.026193758284102|\n",
            "|         10| 3.279535154741996|\n",
            "|         21|3.3958133768023853|\n",
            "|         11|3.4306486555457236|\n",
            "+-----------+------------------+\n",
            "only showing top 20 rows\n",
            "\n"
          ]
        }
      ]
    },
    {
      "cell_type": "markdown",
      "source": [
        "## 7. Medición de Tiempos y Plan de Ejecución (DAG)\n",
        "\n",
        "1. **Comparativa de Escenarios**  \n",
        "   - **Sin particionar** vs. **Particionado** vs. **Particionado + Z-Order**.  \n",
        "   - **Join normal** vs. **Broadcast join**.  \n",
        "   - **Sin cache** vs. **Con cache**.  \n",
        "   - Resumir los resultados en tablas o gráficas, indicando la reducción de latencia o la diferencia en número de stages/shuffles.\n",
        "\n",
        "2. **Spark UI (opcional) y `explain()`**  \n",
        "   - Revisar el DAG para cada escenario y anotar los cambios en la estrategia de join, la cantidad de datos barajados (shuffle) o las tareas generadas.  \n",
        "   - Describir las observaciones más destacadas (por ejemplo, reducción de etapas en broadcast join, mitigación de skew, etc.).\n",
        "\n",
        "---\n",
        "\n",
        "### 8. Conclusiones\n",
        "\n",
        "1. **Conclusiones Principales**  \n",
        "   - Indicar qué técnicas ofrecieron mayor beneficio en términos de latencia y escalabilidad.  \n",
        "   - Destacar si hubo alguna sorpresa, como poca ganancia en Z-Order por baja cardinalidad, o una gran mejora en broadcast join.\n"
      ],
      "metadata": {
        "id": "-5wnhO84Fehk"
      }
    },
    {
      "cell_type": "code",
      "source": [
        "import datetime\n",
        "import numpy as np\n",
        "import pandas as pd\n",
        "\n",
        "import plotly.graph_objects as go\n",
        "from ipywidgets import widgets"
      ],
      "metadata": {
        "id": "mRkqRtDmkk8b"
      },
      "execution_count": 28,
      "outputs": []
    },
    {
      "cell_type": "code",
      "source": [
        "df = pd.read_csv(\n",
        "    'https://raw.githubusercontent.com/yankev/testing/master/datasets/nycflights.csv')\n",
        "df = df.drop(df.columns[[0]], axis=1)"
      ],
      "metadata": {
        "id": "iUWWgVyLne4_"
      },
      "execution_count": 29,
      "outputs": []
    },
    {
      "cell_type": "code",
      "source": [
        "df['carrier'].unique().tolist()"
      ],
      "metadata": {
        "colab": {
          "base_uri": "https://localhost:8080/"
        },
        "id": "mqeW8MA8r-Xb",
        "outputId": "8d966016-5a0b-4913-fd61-87506c6ed5ea"
      },
      "execution_count": 30,
      "outputs": [
        {
          "output_type": "execute_result",
          "data": {
            "text/plain": [
              "['UA',\n",
              " 'AA',\n",
              " 'B6',\n",
              " 'DL',\n",
              " 'EV',\n",
              " 'MQ',\n",
              " 'US',\n",
              " 'WN',\n",
              " 'VX',\n",
              " 'FL',\n",
              " 'AS',\n",
              " '9E',\n",
              " 'F9',\n",
              " 'HA',\n",
              " 'YV',\n",
              " 'OO']"
            ]
          },
          "metadata": {},
          "execution_count": 30
        }
      ]
    },
    {
      "cell_type": "code",
      "source": [
        "df['arr_delay']"
      ],
      "metadata": {
        "colab": {
          "base_uri": "https://localhost:8080/",
          "height": 458
        },
        "id": "3k6IxOVjsHKu",
        "outputId": "282c11f9-4a46-414d-ac8c-b282fc750593"
      },
      "execution_count": 31,
      "outputs": [
        {
          "output_type": "execute_result",
          "data": {
            "text/plain": [
              "0         11.0\n",
              "1         20.0\n",
              "2         33.0\n",
              "3        -18.0\n",
              "4        -25.0\n",
              "          ... \n",
              "336771     NaN\n",
              "336772     NaN\n",
              "336773     NaN\n",
              "336774     NaN\n",
              "336775     NaN\n",
              "Name: arr_delay, Length: 336776, dtype: float64"
            ],
            "text/html": [
              "<div>\n",
              "<style scoped>\n",
              "    .dataframe tbody tr th:only-of-type {\n",
              "        vertical-align: middle;\n",
              "    }\n",
              "\n",
              "    .dataframe tbody tr th {\n",
              "        vertical-align: top;\n",
              "    }\n",
              "\n",
              "    .dataframe thead th {\n",
              "        text-align: right;\n",
              "    }\n",
              "</style>\n",
              "<table border=\"1\" class=\"dataframe\">\n",
              "  <thead>\n",
              "    <tr style=\"text-align: right;\">\n",
              "      <th></th>\n",
              "      <th>arr_delay</th>\n",
              "    </tr>\n",
              "  </thead>\n",
              "  <tbody>\n",
              "    <tr>\n",
              "      <th>0</th>\n",
              "      <td>11.0</td>\n",
              "    </tr>\n",
              "    <tr>\n",
              "      <th>1</th>\n",
              "      <td>20.0</td>\n",
              "    </tr>\n",
              "    <tr>\n",
              "      <th>2</th>\n",
              "      <td>33.0</td>\n",
              "    </tr>\n",
              "    <tr>\n",
              "      <th>3</th>\n",
              "      <td>-18.0</td>\n",
              "    </tr>\n",
              "    <tr>\n",
              "      <th>4</th>\n",
              "      <td>-25.0</td>\n",
              "    </tr>\n",
              "    <tr>\n",
              "      <th>...</th>\n",
              "      <td>...</td>\n",
              "    </tr>\n",
              "    <tr>\n",
              "      <th>336771</th>\n",
              "      <td>NaN</td>\n",
              "    </tr>\n",
              "    <tr>\n",
              "      <th>336772</th>\n",
              "      <td>NaN</td>\n",
              "    </tr>\n",
              "    <tr>\n",
              "      <th>336773</th>\n",
              "      <td>NaN</td>\n",
              "    </tr>\n",
              "    <tr>\n",
              "      <th>336774</th>\n",
              "      <td>NaN</td>\n",
              "    </tr>\n",
              "    <tr>\n",
              "      <th>336775</th>\n",
              "      <td>NaN</td>\n",
              "    </tr>\n",
              "  </tbody>\n",
              "</table>\n",
              "<p>336776 rows × 1 columns</p>\n",
              "</div><br><label><b>dtype:</b> float64</label>"
            ]
          },
          "metadata": {},
          "execution_count": 31
        }
      ]
    },
    {
      "cell_type": "code",
      "source": [
        "month = widgets.IntSlider(\n",
        "    value=1.0,\n",
        "    min=1.0,\n",
        "    max=12.0,\n",
        "    step=1.0,\n",
        "    description='Month:',\n",
        "    continuous_update=False\n",
        ")\n",
        "\n",
        "use_date = widgets.Checkbox(\n",
        "    description='Date: ',\n",
        "    value=True,\n",
        ")\n",
        "\n",
        "container = widgets.HBox(children=[use_date, month])\n",
        "\n",
        "textbox = widgets.Dropdown(\n",
        "    description='Airline:   ',\n",
        "    value='DL',\n",
        "    options=df['carrier'].unique().tolist()\n",
        ")\n",
        "\n",
        "origin = widgets.Dropdown(\n",
        "    options=list(df['origin'].unique()),\n",
        "    value='LGA',\n",
        "    description='Origin Airport:',\n",
        ")\n",
        "\n",
        "\n",
        "# Assign an empty figure widget with two traces\n",
        "trace1 = go.Histogram(x=df['arr_delay'], opacity=0.75, name='Arrival Delays')\n",
        "trace2 = go.Histogram(x=df['dep_delay'], opacity=0.75, name='Departure Delays')\n",
        "g = go.FigureWidget(data=[trace1, trace2],\n",
        "                    layout=go.Layout(\n",
        "                        title=dict(\n",
        "                            text='NYC FlightDatabase'\n",
        "                        ),\n",
        "                        barmode='overlay'\n",
        "                    ))"
      ],
      "metadata": {
        "id": "WAUFopUYoQ4t"
      },
      "execution_count": 32,
      "outputs": []
    },
    {
      "cell_type": "code",
      "source": [
        "def validate():\n",
        "    if origin.value in df['origin'].unique() and textbox.value in df['carrier'].unique():\n",
        "        return True\n",
        "    else:\n",
        "        return False\n",
        "\n",
        "\n",
        "def response(change):\n",
        "    if validate():\n",
        "        if use_date.value:\n",
        "            filter_list = [i and j and k for i, j, k in\n",
        "                           zip(df['month'] == month.value, df['carrier'] == textbox.value,\n",
        "                               df['origin'] == origin.value)]\n",
        "            temp_df = df[filter_list]\n",
        "\n",
        "        else:\n",
        "            filter_list = [i and j for i, j in\n",
        "                           zip(df['carrier'] == 'DL', df['origin'] == origin.value)]\n",
        "            temp_df = df[filter_list]\n",
        "        x1 = temp_df['arr_delay']\n",
        "        x2 = temp_df['dep_delay']\n",
        "        with g.batch_update():\n",
        "            g.data[0].x = x1\n",
        "            g.data[1].x = x2\n",
        "            g.layout.barmode = 'overlay'\n",
        "            g.layout.xaxis.title = 'Delay in Minutes'\n",
        "            g.layout.yaxis.title = 'Number of Delays'\n",
        "\n",
        "\n",
        "origin.observe(response, names=\"value\")\n",
        "textbox.observe(response, names=\"value\")\n",
        "month.observe(response, names=\"value\")\n",
        "use_date.observe(response, names=\"value\")"
      ],
      "metadata": {
        "id": "P3Nw7yOjodk9"
      },
      "execution_count": 33,
      "outputs": []
    },
    {
      "cell_type": "code",
      "source": [
        "container2 = widgets.HBox([origin, textbox])\n",
        "widgets.VBox([container,\n",
        "              container2,\n",
        "              g])"
      ],
      "metadata": {
        "colab": {
          "base_uri": "https://localhost:8080/",
          "height": 17,
          "referenced_widgets": [
            "99a983fad4214ee185eb12e59080554c",
            "949096ee346a4543a324f03e47513040",
            "068f56dcf6a640f4a01e4b35da32cd9b",
            "b37a0afa0fe44b03826b7df813cf67d5",
            "591d7afe064f42a1a2868186648c0be4",
            "77458fe1b5b74055b66466e18bd8d37c",
            "507a160e3b0040e3923a6507ed090d91",
            "cffa2c8c1863481aac0b73b4d46bbfd6",
            "41e1807f8502492cb8dc8be83c4a226e",
            "b71556002b8f4fec9f49fdade9ba357c",
            "213810dbe9864665b7692d09c6b7a666",
            "79b9e84320a94da09b9968081aa7276a",
            "5452b130435348bcb1b39e131a504124",
            "db612741d3a146618ad2b0e5ff2847ae",
            "447d8ca4ba42459cad2d756b094d8a4e",
            "57f3f35d2ce940e498cef60a50a0fd9b",
            "560a5dbaaf684b27a1c5143adcd3d9ed",
            "9b39fc89087d4a3783b601032c9ea546",
            "e549f31c0eec447492d0daf527cc7e58"
          ]
        },
        "id": "f9GN4jYNohYz",
        "outputId": "e8a96463-08eb-4320-ccb7-5427ec70685a"
      },
      "execution_count": 34,
      "outputs": [
        {
          "output_type": "display_data",
          "data": {
            "text/plain": [
              "VBox(children=(HBox(children=(Checkbox(value=True, description='Date: '), IntSlider(value=1, continuous_update…"
            ],
            "application/vnd.jupyter.widget-view+json": {
              "version_major": 2,
              "version_minor": 0,
              "model_id": "99a983fad4214ee185eb12e59080554c"
            }
          },
          "metadata": {}
        }
      ]
    },
    {
      "cell_type": "code",
      "source": [
        "from google.colab import output\n",
        "output.enable_custom_widget_manager()"
      ],
      "metadata": {
        "id": "fgT4bPuPonSh"
      },
      "execution_count": 35,
      "outputs": []
    },
    {
      "cell_type": "markdown",
      "source": [
        "Support for third party widgets will remain active for the duration of the session. To disable support:"
      ],
      "metadata": {
        "id": "7hL3N90NonSh"
      }
    },
    {
      "cell_type": "code",
      "source": [
        "mes_pickup_unicos = clean_df.select(\"mes_pickup\").distinct().orderBy(\"mes_pickup\").rdd.flatMap(lambda x: x).collect()\n",
        "\n",
        "# Crear el slider con valores únicos de \"mes_pickup\"\n",
        "mes_slider = widgets.SelectionSlider(\n",
        "    options=[str(mes) for mes in mes_pickup_unicos],  # Convertir los valores a string\n",
        "    value=str(mes_pickup_unicos[0]),  # Valor inicial\n",
        "    description='Mes:',\n",
        "    continuous_update=False,\n",
        ")\n",
        "\n",
        "# Crear DataFrame inicial agrupado por Borough y sumando tip_amount para el primer mes\n",
        "initial_month = int(mes_slider.value)\n",
        "df_filtered = clean_df.filter(col(\"mes_pickup\") == initial_month)\n",
        "df_grouped = df_filtered.groupBy(\"Borough\").agg(avg(\"tip_amount\").alias(\"total_tip_amount\"))\n",
        "df_grouped = df_grouped.orderBy(\"Borough\",ascending=False)\n",
        "\n",
        "# Convertir el DataFrame de PySpark a Pandas para Plotly\n",
        "df_grouped_pd = df_grouped.toPandas()\n",
        "\n",
        "# Crear figura inicial\n",
        "fig = go.FigureWidget(\n",
        "    data=[\n",
        "        go.Bar(\n",
        "            x=df_grouped_pd[\"Borough\"],\n",
        "            y=df_grouped_pd[\"total_tip_amount\"],\n",
        "            name=f\"Mes: {mes_slider.value}\"\n",
        "        )\n",
        "    ],\n",
        "    layout=go.Layout(\n",
        "        title=\"Propinas por Zona y Mes\",\n",
        "        xaxis=dict(title=\"Zona (Borough)\"),\n",
        "        yaxis=dict(title=\"Total Propinas\"),\n",
        "    )\n",
        ")\n",
        "\n"
      ],
      "metadata": {
        "collapsed": true,
        "id": "Y2WeN4s9tcB7"
      },
      "execution_count": 36,
      "outputs": []
    },
    {
      "cell_type": "code",
      "source": [
        "# Función para actualizar el gráfico según el slider\n",
        "def update_graph(change):\n",
        "    print(f\"Mes seleccionado: {change['new']}\")\n",
        "    selected_month = int(change['new'])  # Mes seleccionado\n",
        "    df_filtered = clean_df.filter(col(\"mes_pickup\") == selected_month)\n",
        "    df_grouped = df_filtered.groupBy(\"Borough\").agg(avg(\"tip_amount\").alias(\"total_tip_amount\"))\n",
        "    df_grouped_pd = df_grouped.toPandas()  # Convertir a Pandas para actualizar el gráfico\n",
        "    # Actualizar la gráfica\n",
        "    with fig.batch_update():\n",
        "        fig.data[0].x = df_grouped_pd[\"Borough\"]\n",
        "        fig.data[0].y = df_grouped_pd[\"total_tip_amount\"]\n",
        "        fig.data[0].name = f\"Mes: {selected_month}\"\n",
        "        fig.layout.title.text = f\"Propinas por Zona y Mes (Mes: {selected_month})\"\n",
        "\n",
        "# Vincular el slider con la función de actualización\n",
        "mes_slider.observe(update_graph, names=\"value\")\n",
        "\n"
      ],
      "metadata": {
        "id": "A4HKvCgD1c4m"
      },
      "execution_count": 37,
      "outputs": []
    },
    {
      "cell_type": "code",
      "source": [
        "# Mostrar el widget y el gráfico\n",
        "widgets.VBox([mes_slider, fig])"
      ],
      "metadata": {
        "colab": {
          "base_uri": "https://localhost:8080/",
          "height": 405,
          "referenced_widgets": [
            "6882858f20634b66a86c62da8c956409",
            "7e38fc4b499d4411bb3a72e532c8e6d5",
            "38de877365ae4fc9a08afc1b18866740",
            "13e02ba8bc9d4a7babd7a023eec10588",
            "6c779a6dd3bd477bbe83486606e714f1",
            "64678d3ce1104dbfb2b9790629b503b0"
          ]
        },
        "id": "FX0_d4WC1fWs",
        "outputId": "96fd6bae-842f-418a-b00e-7a411c8612d1"
      },
      "execution_count": 38,
      "outputs": [
        {
          "output_type": "display_data",
          "data": {
            "text/plain": [
              "VBox(children=(SelectionSlider(continuous_update=False, description='Mes:', options=('1', '2', '12'), value='1…"
            ],
            "application/vnd.jupyter.widget-view+json": {
              "version_major": 2,
              "version_minor": 0,
              "model_id": "6882858f20634b66a86c62da8c956409"
            }
          },
          "metadata": {
            "application/vnd.jupyter.widget-view+json": {
              "colab": {
                "custom_widget_manager": {
                  "url": "https://ssl.gstatic.com/colaboratory-static/widgets/colab-cdn-widget-manager/2b70e893a8ba7c0f/manager.min.js"
                }
              }
            }
          }
        }
      ]
    },
    {
      "cell_type": "code",
      "source": [
        "df_filtered.groupBy(\"Borough\").agg(spark_sum(\"tip_amount\").alias(\"total_tip_amount\")).show()"
      ],
      "metadata": {
        "colab": {
          "base_uri": "https://localhost:8080/"
        },
        "id": "5XKkA39_ygTr",
        "outputId": "7b2e50b1-4819-4b41-db8f-8a400f8d9f85"
      },
      "execution_count": 39,
      "outputs": [
        {
          "output_type": "stream",
          "name": "stdout",
          "text": [
            "+-------------+------------------+\n",
            "|      Borough|  total_tip_amount|\n",
            "+-------------+------------------+\n",
            "|       Queens|2228205.3399996324|\n",
            "|          EWR| 3731.519999999998|\n",
            "|      Unknown| 35508.57999999994|\n",
            "|     Brooklyn| 40254.46000000001|\n",
            "|Staten Island|268.27000000000004|\n",
            "|          N/A| 13203.87000000001|\n",
            "|    Manhattan|7563738.4500000775|\n",
            "|        Bronx|           2095.55|\n",
            "+-------------+------------------+\n",
            "\n"
          ]
        }
      ]
    },
    {
      "cell_type": "code",
      "source": [],
      "metadata": {
        "id": "YqnFkfHhonSh"
      },
      "execution_count": 39,
      "outputs": []
    },
    {
      "cell_type": "code",
      "source": [],
      "metadata": {
        "id": "LHMyUWm2ug1f"
      },
      "execution_count": 39,
      "outputs": []
    }
  ]
}